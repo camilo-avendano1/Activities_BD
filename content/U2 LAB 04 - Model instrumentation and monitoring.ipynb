{
  "cells": [
    {
      "cell_type": "markdown",
      "metadata": {
        "id": "seXDVPMcyBP7"
      },
      "source": [
        "# LAB 2.4 - Model instrumentation"
      ]
    },
    {
      "cell_type": "code",
      "execution_count": 1,
      "metadata": {
        "id": "b9_mt8XXyBP8",
        "outputId": "12bab6e5-fb52-4537-cbc7-bc670e27f3b7",
        "colab": {
          "base_uri": "https://localhost:8080/",
          "height": 75
        }
      },
      "outputs": [
        {
          "output_type": "display_data",
          "data": {
            "text/plain": [
              "<IPython.core.display.HTML object>"
            ],
            "text/html": [
              "\n",
              "<meta name=\"google-signin-client_id\"\n",
              "      content=\"461673936472-kdjosv61up3ac1ajeuq6qqu72upilmls.apps.googleusercontent.com\"/>\n",
              "<script src=\"https://apis.google.com/js/client:platform.js?onload=google_button_start\"></script>\n",
              "    "
            ]
          },
          "metadata": {}
        },
        {
          "output_type": "stream",
          "name": "stdout",
          "text": [
            "replicating local resources\n"
          ]
        },
        {
          "output_type": "execute_result",
          "data": {
            "text/plain": [
              "<IPython.core.display.HTML object>"
            ],
            "text/html": [
              "<h3>See <a href='https://m5knaekxo6.execute-api.us-west-2.amazonaws.com/dev-v0001/rlxmooc/web/login' target='_blank'>my courses and progress</a></h2>"
            ]
          },
          "metadata": {},
          "execution_count": 1
        }
      ],
      "source": [
        "!wget -nc --no-cache -O init.py -q https://raw.githubusercontent.com/rramosp/2021.deeplearning/main/content/init.py\n",
        "import init; init.init(force_download=False); init.get_weblink()"
      ]
    },
    {
      "cell_type": "code",
      "execution_count": 2,
      "metadata": {
        "id": "5Fq8uEjWyBP8",
        "outputId": "3c0e6d1f-ce44-4b6d-a811-ea64a6b74dc4",
        "colab": {
          "base_uri": "https://localhost:8080/",
          "height": 74,
          "referenced_widgets": [
            "64a8b04f0f8547fa84cff8f60590b82f",
            "217cdf36b73c496f9c02cf91be639650",
            "86a5ada31a8d46979075d3468b0711b2",
            "d862963386ae4cbcaeb952f53d9ea466",
            "a1c3c9bb3c0f4a088ea1776cdbb25a36",
            "1e774c52b0864489a01a8280dad465a3",
            "ffe17f32166a4d2fb4e5a865af28b96a",
            "a032b6462afe45f1a9b408655e8010cc",
            "828ae1710f3c475690b1dd62fba9aec3",
            "92866028f0dd4e87813e88e72ae4cbe6",
            "e0a7a9582afe46e08803882f809c56cc",
            "4ffad7d0dbe0499db7998e90e0fd8223",
            "8434661180d045b7ba994543326481c7",
            "69feaa07707844c1b3022419c361174a",
            "3f5105dc9e6a459695ecccc5b0003d3e",
            "5e74f5e9d7ab4bf5a3cd6abfeff51d61",
            "bf3c67557bc0499c820aa15839f5078b",
            "d4cf659ee7414e758f31855da3033de4",
            "ea47c5d26a3e40a8a9dc730217734d03"
          ]
        }
      },
      "outputs": [
        {
          "output_type": "stream",
          "name": "stdout",
          "text": [
            "logging in as camilo.avendano1@udea.edu.co ... please wait\n",
            "using course session 2021.deeplearning::udea.20242\n",
            "success!! you are logged in\n"
          ]
        }
      ],
      "source": [
        "from local.lib.rlxmoocapi import submit, session\n",
        "import inspect\n",
        "session.LoginSequence(endpoint=init.endpoint, course_id=init.course_id, lab_id=\"L02.04\", varname=\"student\");"
      ]
    },
    {
      "cell_type": "code",
      "execution_count": 3,
      "metadata": {
        "id": "-oDxNpcyyBP9",
        "outputId": "647088bb-dae0-41d2-ed0d-060eed63a52f",
        "colab": {
          "base_uri": "https://localhost:8080/"
        }
      },
      "outputs": [
        {
          "output_type": "stream",
          "name": "stdout",
          "text": [
            "Collecting tensorflow==2.15\n",
            "  Downloading tensorflow-2.15.0-cp310-cp310-manylinux_2_17_x86_64.manylinux2014_x86_64.whl.metadata (4.4 kB)\n",
            "Requirement already satisfied: absl-py>=1.0.0 in /usr/local/lib/python3.10/dist-packages (from tensorflow==2.15) (1.4.0)\n",
            "Requirement already satisfied: astunparse>=1.6.0 in /usr/local/lib/python3.10/dist-packages (from tensorflow==2.15) (1.6.3)\n",
            "Requirement already satisfied: flatbuffers>=23.5.26 in /usr/local/lib/python3.10/dist-packages (from tensorflow==2.15) (24.3.25)\n",
            "Requirement already satisfied: gast!=0.5.0,!=0.5.1,!=0.5.2,>=0.2.1 in /usr/local/lib/python3.10/dist-packages (from tensorflow==2.15) (0.6.0)\n",
            "Requirement already satisfied: google-pasta>=0.1.1 in /usr/local/lib/python3.10/dist-packages (from tensorflow==2.15) (0.2.0)\n",
            "Requirement already satisfied: h5py>=2.9.0 in /usr/local/lib/python3.10/dist-packages (from tensorflow==2.15) (3.11.0)\n",
            "Requirement already satisfied: libclang>=13.0.0 in /usr/local/lib/python3.10/dist-packages (from tensorflow==2.15) (18.1.1)\n",
            "Collecting ml-dtypes~=0.2.0 (from tensorflow==2.15)\n",
            "  Downloading ml_dtypes-0.2.0-cp310-cp310-manylinux_2_17_x86_64.manylinux2014_x86_64.whl.metadata (20 kB)\n",
            "Requirement already satisfied: numpy<2.0.0,>=1.23.5 in /usr/local/lib/python3.10/dist-packages (from tensorflow==2.15) (1.26.4)\n",
            "Requirement already satisfied: opt-einsum>=2.3.2 in /usr/local/lib/python3.10/dist-packages (from tensorflow==2.15) (3.3.0)\n",
            "Requirement already satisfied: packaging in /usr/local/lib/python3.10/dist-packages (from tensorflow==2.15) (24.1)\n",
            "Requirement already satisfied: protobuf!=4.21.0,!=4.21.1,!=4.21.2,!=4.21.3,!=4.21.4,!=4.21.5,<5.0.0dev,>=3.20.3 in /usr/local/lib/python3.10/dist-packages (from tensorflow==2.15) (3.20.3)\n",
            "Requirement already satisfied: setuptools in /usr/local/lib/python3.10/dist-packages (from tensorflow==2.15) (71.0.4)\n",
            "Requirement already satisfied: six>=1.12.0 in /usr/local/lib/python3.10/dist-packages (from tensorflow==2.15) (1.16.0)\n",
            "Requirement already satisfied: termcolor>=1.1.0 in /usr/local/lib/python3.10/dist-packages (from tensorflow==2.15) (2.4.0)\n",
            "Requirement already satisfied: typing-extensions>=3.6.6 in /usr/local/lib/python3.10/dist-packages (from tensorflow==2.15) (4.12.2)\n",
            "Collecting wrapt<1.15,>=1.11.0 (from tensorflow==2.15)\n",
            "  Downloading wrapt-1.14.1-cp310-cp310-manylinux_2_5_x86_64.manylinux1_x86_64.manylinux_2_17_x86_64.manylinux2014_x86_64.whl.metadata (6.7 kB)\n",
            "Requirement already satisfied: tensorflow-io-gcs-filesystem>=0.23.1 in /usr/local/lib/python3.10/dist-packages (from tensorflow==2.15) (0.37.1)\n",
            "Requirement already satisfied: grpcio<2.0,>=1.24.3 in /usr/local/lib/python3.10/dist-packages (from tensorflow==2.15) (1.64.1)\n",
            "Collecting tensorboard<2.16,>=2.15 (from tensorflow==2.15)\n",
            "  Downloading tensorboard-2.15.2-py3-none-any.whl.metadata (1.7 kB)\n",
            "Collecting tensorflow-estimator<2.16,>=2.15.0 (from tensorflow==2.15)\n",
            "  Downloading tensorflow_estimator-2.15.0-py2.py3-none-any.whl.metadata (1.3 kB)\n",
            "Collecting keras<2.16,>=2.15.0 (from tensorflow==2.15)\n",
            "  Downloading keras-2.15.0-py3-none-any.whl.metadata (2.4 kB)\n",
            "Requirement already satisfied: wheel<1.0,>=0.23.0 in /usr/local/lib/python3.10/dist-packages (from astunparse>=1.6.0->tensorflow==2.15) (0.44.0)\n",
            "Requirement already satisfied: google-auth<3,>=1.6.3 in /usr/local/lib/python3.10/dist-packages (from tensorboard<2.16,>=2.15->tensorflow==2.15) (2.27.0)\n",
            "Requirement already satisfied: google-auth-oauthlib<2,>=0.5 in /usr/local/lib/python3.10/dist-packages (from tensorboard<2.16,>=2.15->tensorflow==2.15) (1.2.1)\n",
            "Requirement already satisfied: markdown>=2.6.8 in /usr/local/lib/python3.10/dist-packages (from tensorboard<2.16,>=2.15->tensorflow==2.15) (3.7)\n",
            "Requirement already satisfied: requests<3,>=2.21.0 in /usr/local/lib/python3.10/dist-packages (from tensorboard<2.16,>=2.15->tensorflow==2.15) (2.32.3)\n",
            "Requirement already satisfied: tensorboard-data-server<0.8.0,>=0.7.0 in /usr/local/lib/python3.10/dist-packages (from tensorboard<2.16,>=2.15->tensorflow==2.15) (0.7.2)\n",
            "Requirement already satisfied: werkzeug>=1.0.1 in /usr/local/lib/python3.10/dist-packages (from tensorboard<2.16,>=2.15->tensorflow==2.15) (3.0.4)\n",
            "Requirement already satisfied: cachetools<6.0,>=2.0.0 in /usr/local/lib/python3.10/dist-packages (from google-auth<3,>=1.6.3->tensorboard<2.16,>=2.15->tensorflow==2.15) (5.5.0)\n",
            "Requirement already satisfied: pyasn1-modules>=0.2.1 in /usr/local/lib/python3.10/dist-packages (from google-auth<3,>=1.6.3->tensorboard<2.16,>=2.15->tensorflow==2.15) (0.4.0)\n",
            "Requirement already satisfied: rsa<5,>=3.1.4 in /usr/local/lib/python3.10/dist-packages (from google-auth<3,>=1.6.3->tensorboard<2.16,>=2.15->tensorflow==2.15) (4.9)\n",
            "Requirement already satisfied: requests-oauthlib>=0.7.0 in /usr/local/lib/python3.10/dist-packages (from google-auth-oauthlib<2,>=0.5->tensorboard<2.16,>=2.15->tensorflow==2.15) (1.3.1)\n",
            "Requirement already satisfied: charset-normalizer<4,>=2 in /usr/local/lib/python3.10/dist-packages (from requests<3,>=2.21.0->tensorboard<2.16,>=2.15->tensorflow==2.15) (3.3.2)\n",
            "Requirement already satisfied: idna<4,>=2.5 in /usr/local/lib/python3.10/dist-packages (from requests<3,>=2.21.0->tensorboard<2.16,>=2.15->tensorflow==2.15) (3.8)\n",
            "Requirement already satisfied: urllib3<3,>=1.21.1 in /usr/local/lib/python3.10/dist-packages (from requests<3,>=2.21.0->tensorboard<2.16,>=2.15->tensorflow==2.15) (2.0.7)\n",
            "Requirement already satisfied: certifi>=2017.4.17 in /usr/local/lib/python3.10/dist-packages (from requests<3,>=2.21.0->tensorboard<2.16,>=2.15->tensorflow==2.15) (2024.7.4)\n",
            "Requirement already satisfied: MarkupSafe>=2.1.1 in /usr/local/lib/python3.10/dist-packages (from werkzeug>=1.0.1->tensorboard<2.16,>=2.15->tensorflow==2.15) (2.1.5)\n",
            "Requirement already satisfied: pyasn1<0.7.0,>=0.4.6 in /usr/local/lib/python3.10/dist-packages (from pyasn1-modules>=0.2.1->google-auth<3,>=1.6.3->tensorboard<2.16,>=2.15->tensorflow==2.15) (0.6.0)\n",
            "Requirement already satisfied: oauthlib>=3.0.0 in /usr/local/lib/python3.10/dist-packages (from requests-oauthlib>=0.7.0->google-auth-oauthlib<2,>=0.5->tensorboard<2.16,>=2.15->tensorflow==2.15) (3.2.2)\n",
            "Downloading tensorflow-2.15.0-cp310-cp310-manylinux_2_17_x86_64.manylinux2014_x86_64.whl (475.2 MB)\n",
            "\u001b[2K   \u001b[90m━━━━━━━━━━━━━━━━━━━━━━━━━━━━━━━━━━━━━━━━\u001b[0m \u001b[32m475.2/475.2 MB\u001b[0m \u001b[31m3.1 MB/s\u001b[0m eta \u001b[36m0:00:00\u001b[0m\n",
            "\u001b[?25hDownloading keras-2.15.0-py3-none-any.whl (1.7 MB)\n",
            "\u001b[2K   \u001b[90m━━━━━━━━━━━━━━━━━━━━━━━━━━━━━━━━━━━━━━━━\u001b[0m \u001b[32m1.7/1.7 MB\u001b[0m \u001b[31m46.9 MB/s\u001b[0m eta \u001b[36m0:00:00\u001b[0m\n",
            "\u001b[?25hDownloading ml_dtypes-0.2.0-cp310-cp310-manylinux_2_17_x86_64.manylinux2014_x86_64.whl (1.0 MB)\n",
            "\u001b[2K   \u001b[90m━━━━━━━━━━━━━━━━━━━━━━━━━━━━━━━━━━━━━━━━\u001b[0m \u001b[32m1.0/1.0 MB\u001b[0m \u001b[31m38.0 MB/s\u001b[0m eta \u001b[36m0:00:00\u001b[0m\n",
            "\u001b[?25hDownloading tensorboard-2.15.2-py3-none-any.whl (5.5 MB)\n",
            "\u001b[2K   \u001b[90m━━━━━━━━━━━━━━━━━━━━━━━━━━━━━━━━━━━━━━━━\u001b[0m \u001b[32m5.5/5.5 MB\u001b[0m \u001b[31m54.9 MB/s\u001b[0m eta \u001b[36m0:00:00\u001b[0m\n",
            "\u001b[?25hDownloading tensorflow_estimator-2.15.0-py2.py3-none-any.whl (441 kB)\n",
            "\u001b[2K   \u001b[90m━━━━━━━━━━━━━━━━━━━━━━━━━━━━━━━━━━━━━━━━\u001b[0m \u001b[32m442.0/442.0 kB\u001b[0m \u001b[31m21.6 MB/s\u001b[0m eta \u001b[36m0:00:00\u001b[0m\n",
            "\u001b[?25hDownloading wrapt-1.14.1-cp310-cp310-manylinux_2_5_x86_64.manylinux1_x86_64.manylinux_2_17_x86_64.manylinux2014_x86_64.whl (77 kB)\n",
            "\u001b[2K   \u001b[90m━━━━━━━━━━━━━━━━━━━━━━━━━━━━━━━━━━━━━━━━\u001b[0m \u001b[32m77.9/77.9 kB\u001b[0m \u001b[31m5.1 MB/s\u001b[0m eta \u001b[36m0:00:00\u001b[0m\n",
            "\u001b[?25hInstalling collected packages: wrapt, tensorflow-estimator, ml-dtypes, keras, tensorboard, tensorflow\n",
            "  Attempting uninstall: wrapt\n",
            "    Found existing installation: wrapt 1.16.0\n",
            "    Uninstalling wrapt-1.16.0:\n",
            "      Successfully uninstalled wrapt-1.16.0\n",
            "  Attempting uninstall: ml-dtypes\n",
            "    Found existing installation: ml-dtypes 0.4.0\n",
            "    Uninstalling ml-dtypes-0.4.0:\n",
            "      Successfully uninstalled ml-dtypes-0.4.0\n",
            "  Attempting uninstall: keras\n",
            "    Found existing installation: keras 3.4.1\n",
            "    Uninstalling keras-3.4.1:\n",
            "      Successfully uninstalled keras-3.4.1\n",
            "  Attempting uninstall: tensorboard\n",
            "    Found existing installation: tensorboard 2.17.0\n",
            "    Uninstalling tensorboard-2.17.0:\n",
            "      Successfully uninstalled tensorboard-2.17.0\n",
            "  Attempting uninstall: tensorflow\n",
            "    Found existing installation: tensorflow 2.17.0\n",
            "    Uninstalling tensorflow-2.17.0:\n",
            "      Successfully uninstalled tensorflow-2.17.0\n",
            "\u001b[31mERROR: pip's dependency resolver does not currently take into account all the packages that are installed. This behaviour is the source of the following dependency conflicts.\n",
            "tensorstore 0.1.64 requires ml-dtypes>=0.3.1, but you have ml-dtypes 0.2.0 which is incompatible.\n",
            "tf-keras 2.17.0 requires tensorflow<2.18,>=2.17, but you have tensorflow 2.15.0 which is incompatible.\u001b[0m\u001b[31m\n",
            "\u001b[0mSuccessfully installed keras-2.15.0 ml-dtypes-0.2.0 tensorboard-2.15.2 tensorflow-2.15.0 tensorflow-estimator-2.15.0 wrapt-1.14.1\n"
          ]
        }
      ],
      "source": [
        "!pip install tensorflow==2.15\n"
      ]
    },
    {
      "cell_type": "code",
      "execution_count": 5,
      "metadata": {
        "id": "aEj8nPLeyBP9"
      },
      "outputs": [],
      "source": [
        "import numpy as np\n",
        "import matplotlib.pyplot as plt\n",
        "import pandas as pd\n",
        "from tensorflow import keras\n",
        "from IPython.display import Image\n",
        "import pandas as pd\n",
        "\n",
        "%matplotlib inline"
      ]
    },
    {
      "cell_type": "code",
      "execution_count": null,
      "metadata": {
        "id": "l0SbhOBcyBP9"
      },
      "outputs": [],
      "source": []
    },
    {
      "cell_type": "markdown",
      "metadata": {
        "id": "cO5EcNXSUH-B"
      },
      "source": [
        "### LAB SUMMARY\n",
        "\n",
        "\n",
        "In this lab you will be implementing Tensorflow Callbacks that will be invoked at different stages when a model gets trained.\n",
        "\n",
        "Read carefully the following tutorial: [https://www.tensorflow.org/guide/keras/custom_callback](https://www.tensorflow.org/guide/keras/custom_callback)\n",
        "\n",
        "\n",
        "### load sample MNIST data as customary"
      ]
    },
    {
      "cell_type": "code",
      "execution_count": 6,
      "metadata": {
        "colab": {
          "base_uri": "https://localhost:8080/"
        },
        "id": "SW5RDD8qUH-C",
        "outputId": "d458f4e7-6a67-45c1-ed43-c1f2878c781d"
      },
      "outputs": [
        {
          "output_type": "stream",
          "name": "stdout",
          "text": [
            "dimension de las imagenes y las clases (1500, 784) (1500,)\n"
          ]
        }
      ],
      "source": [
        "mnist = pd.read_csv(\"local/data/mnist1.5k.csv.gz\", compression=\"gzip\", header=None).values\n",
        "X=mnist[:,1:785]/255.\n",
        "y=mnist[:,0]\n",
        "print(\"dimension de las imagenes y las clases\", X.shape, y.shape)"
      ]
    },
    {
      "cell_type": "code",
      "execution_count": 7,
      "metadata": {
        "colab": {
          "base_uri": "https://localhost:8080/"
        },
        "id": "2iXzcb0jUH-E",
        "outputId": "88f78b3b-ce6a-4cca-d93b-001789b86e51"
      },
      "outputs": [
        {
          "output_type": "stream",
          "name": "stdout",
          "text": [
            "(1200, 784) (1200, 10)\n"
          ]
        }
      ],
      "source": [
        "from sklearn.model_selection import train_test_split\n",
        "X_train, X_test, y_train, y_test = train_test_split(X, y, test_size=.2)\n",
        "X_train = X_train.astype(np.float32)\n",
        "X_test  = X_test.astype(np.float32)\n",
        "y_train_oh = np.eye(10)[y_train]\n",
        "y_test_oh  = np.eye(10)[y_test]\n",
        "print(X_train.shape, y_train_oh.shape)"
      ]
    },
    {
      "cell_type": "code",
      "execution_count": 8,
      "metadata": {
        "id": "HmoxgIGkUH-G"
      },
      "outputs": [],
      "source": [
        "from tensorflow.keras import Sequential, Model\n",
        "from tensorflow.keras.layers import Dense, Input\n",
        "from tensorflow.keras.callbacks import Callback"
      ]
    },
    {
      "cell_type": "markdown",
      "metadata": {
        "id": "xTl-dXJ9UH-J"
      },
      "source": [
        "### A basic multi layered dense model\n",
        "\n",
        "observe that the function allows us to parametrize the number of hidden layers and their activation function\n"
      ]
    },
    {
      "cell_type": "code",
      "execution_count": 9,
      "metadata": {
        "id": "y5wi-OteUH-K"
      },
      "outputs": [],
      "source": [
        "def get_model(input_dim=784, output_dim=10, num_hidden_layers=6, hidden_size=10, activation=\"relu\"):\n",
        "\n",
        "    model = Sequential()\n",
        "    model.add(Dense(hidden_size, activation=activation, input_dim=input_dim, name=\"Layer_%02d_Input\"%(0)))\n",
        "\n",
        "    for i in range(num_hidden_layers):\n",
        "        model.add(Dense(hidden_size, activation=activation, name=\"Layer_%02d_Hidden\"%(i+1)))\n",
        "\n",
        "    model.add(Dense(output_dim, activation=\"softmax\", name=\"Layer_%02d_Output\"%(num_hidden_layers+1)))\n",
        "    model.compile(optimizer='adam', loss='categorical_crossentropy', metrics=['accuracy'])\n",
        "\n",
        "    return model"
      ]
    },
    {
      "cell_type": "markdown",
      "metadata": {
        "id": "CdjyzRhkUH-N"
      },
      "source": [
        "## TASK 1: Weights monitoring callback\n",
        "\n",
        "Create a callback that:\n",
        "\n",
        "- when each epoch ends, retrieves the weights of the layer with name `self.layer_name`.\n",
        "- gets is kernels weights.\n",
        "- computes the mean and standard deviation of those weights.\n",
        "- appends them to `self.mean_per_epoch` and `self.std_per_epoch`\n",
        "\n",
        "When used with a model, at the end of any training it will contain a list of weights means and another list of weights stds, both with one element per each epoch. With this we can monitor how the weights in a specific layer progress over the training process. Tensorboard offers a similar functionality, but the goal with this task is to get acquainted with the callback mechanism."
      ]
    },
    {
      "cell_type": "code",
      "execution_count": 11,
      "metadata": {
        "id": "YCJNcecZyBP_"
      },
      "outputs": [],
      "source": [
        "def LayerWeightsCallback(layer_name):\n",
        "    class LayerWeightsCallback_class(Callback):\n",
        "\n",
        "        def __init__(self, layer_name):\n",
        "            super().__init__()\n",
        "            self.mean_per_epoch = []\n",
        "            self.std_per_epoch = []\n",
        "            self.layer_name = layer_name\n",
        "\n",
        "        def on_epoch_end(self, epoch, logs=None):\n",
        "            # Retrieve the weights of the layer with the given name\n",
        "            layer = self.model.get_layer(name=self.layer_name)\n",
        "            weights = layer.get_weights()[0]  # Get the kernel weights\n",
        "\n",
        "            # Compute the mean and standard deviation\n",
        "            mean = np.mean(weights)\n",
        "            std = np.std(weights)\n",
        "\n",
        "            # Append the computed values to the lists\n",
        "            self.mean_per_epoch.append(mean)\n",
        "            self.std_per_epoch.append(std)\n",
        "\n",
        "    return LayerWeightsCallback_class(layer_name)"
      ]
    },
    {
      "cell_type": "markdown",
      "metadata": {
        "id": "fe-wkd5XyBP_"
      },
      "source": [
        "manually test your code with the following cell. Your callback should report the weights mean and std doubling at every epoch, just with the same values as they are being computed within the for loop. The loop simulates training epochs."
      ]
    },
    {
      "cell_type": "code",
      "execution_count": 12,
      "metadata": {
        "id": "CvXypZPSyBP_",
        "outputId": "8b529a27-7eef-419d-bd56-537b3b861760",
        "colab": {
          "base_uri": "https://localhost:8080/"
        }
      },
      "outputs": [
        {
          "output_type": "stream",
          "name": "stdout",
          "text": [
            "epoch 0 weights mean/std -0.1494077 0.64817286\n",
            "epoch 1 weights mean/std -0.2988154 1.2963457\n",
            "epoch 2 weights mean/std -0.5976308 2.5926914\n",
            "\n",
            "weight mean at each epoch [-0.1494077, -0.2988154, -0.5976308]\n",
            "weight std  at each epoch [0.64817286, 1.2963457, 2.5926914]\n"
          ]
        }
      ],
      "source": [
        "model = get_model(input_dim=2, output_dim=3, num_hidden_layers=1, hidden_size=2, activation=\"sigmoid\")\n",
        "layer_names = [i.name for i in model.layers if not \"Input\" in i.name]\n",
        "layer = model.get_layer(np.random.choice(layer_names))\n",
        "\n",
        "cb = LayerWeightsCallback(layer.name)\n",
        "cb.model = model\n",
        "\n",
        "m, s, wh = [], [], []\n",
        "for epoch in range(3):\n",
        "    w = layer.get_weights()[0]\n",
        "    wh.append(w)\n",
        "    print (\"epoch\", epoch, \"weights mean/std\", np.mean(w),np.std(w))\n",
        "    cb.on_epoch_end(epoch)\n",
        "    layer.set_weights([i*2 for i in layer.get_weights()])\n",
        "\n",
        "print (\"\\nweight mean at each epoch\", cb.mean_per_epoch)\n",
        "print (\"weight std  at each epoch\", cb.std_per_epoch)"
      ]
    },
    {
      "cell_type": "markdown",
      "metadata": {
        "id": "sqHC7D9CyBP_"
      },
      "source": [
        "Now you can use your class to keep track of weights while training. We choose to keep track of weights with your callback for all the layers.\n",
        "\n",
        "Observe how we plot the weights progress with the data gathered by your callback. What interpretation can you give to the plots?"
      ]
    },
    {
      "cell_type": "code",
      "execution_count": 13,
      "metadata": {
        "colab": {
          "base_uri": "https://localhost:8080/"
        },
        "id": "IRua6cxAUH-N",
        "outputId": "2c5b0e1b-4800-422d-c7da-1c996dbae99c",
        "scrolled": true
      },
      "outputs": [
        {
          "output_type": "stream",
          "name": "stdout",
          "text": [
            "Epoch 1/100\n",
            "150/150 [==============================] - 2s 4ms/step - loss: 2.3794 - accuracy: 0.0992 - val_loss: 2.3106 - val_accuracy: 0.1033\n",
            "Epoch 2/100\n",
            "150/150 [==============================] - 0s 2ms/step - loss: 2.3073 - accuracy: 0.1000 - val_loss: 2.2914 - val_accuracy: 0.1233\n",
            "Epoch 3/100\n",
            "150/150 [==============================] - 0s 2ms/step - loss: 2.2855 - accuracy: 0.1242 - val_loss: 2.2776 - val_accuracy: 0.1967\n",
            "Epoch 4/100\n",
            "150/150 [==============================] - 0s 2ms/step - loss: 2.2622 - accuracy: 0.2042 - val_loss: 2.2489 - val_accuracy: 0.2167\n",
            "Epoch 5/100\n",
            "150/150 [==============================] - 0s 2ms/step - loss: 2.2194 - accuracy: 0.2217 - val_loss: 2.1918 - val_accuracy: 0.2167\n",
            "Epoch 6/100\n",
            "150/150 [==============================] - 0s 2ms/step - loss: 2.1442 - accuracy: 0.2208 - val_loss: 2.1101 - val_accuracy: 0.2167\n",
            "Epoch 7/100\n",
            "150/150 [==============================] - 0s 2ms/step - loss: 2.0439 - accuracy: 0.2425 - val_loss: 2.0073 - val_accuracy: 0.2400\n",
            "Epoch 8/100\n",
            "150/150 [==============================] - 0s 3ms/step - loss: 1.9353 - accuracy: 0.2567 - val_loss: 1.9117 - val_accuracy: 0.2667\n",
            "Epoch 9/100\n",
            "150/150 [==============================] - 0s 2ms/step - loss: 1.8375 - accuracy: 0.2983 - val_loss: 1.8365 - val_accuracy: 0.3167\n",
            "Epoch 10/100\n",
            "150/150 [==============================] - 0s 2ms/step - loss: 1.7495 - accuracy: 0.3658 - val_loss: 1.7677 - val_accuracy: 0.3433\n",
            "Epoch 11/100\n",
            "150/150 [==============================] - 0s 2ms/step - loss: 1.6673 - accuracy: 0.3825 - val_loss: 1.7066 - val_accuracy: 0.3600\n",
            "Epoch 12/100\n",
            "150/150 [==============================] - 0s 2ms/step - loss: 1.5885 - accuracy: 0.4142 - val_loss: 1.6585 - val_accuracy: 0.3633\n",
            "Epoch 13/100\n",
            "150/150 [==============================] - 0s 2ms/step - loss: 1.5138 - accuracy: 0.4117 - val_loss: 1.6023 - val_accuracy: 0.3667\n",
            "Epoch 14/100\n",
            "150/150 [==============================] - 0s 2ms/step - loss: 1.4456 - accuracy: 0.4308 - val_loss: 1.5548 - val_accuracy: 0.3633\n",
            "Epoch 15/100\n",
            "150/150 [==============================] - 0s 2ms/step - loss: 1.3851 - accuracy: 0.4517 - val_loss: 1.5347 - val_accuracy: 0.3767\n",
            "Epoch 16/100\n",
            "150/150 [==============================] - 0s 2ms/step - loss: 1.3307 - accuracy: 0.4625 - val_loss: 1.4803 - val_accuracy: 0.3933\n",
            "Epoch 17/100\n",
            "150/150 [==============================] - 0s 2ms/step - loss: 1.2868 - accuracy: 0.4558 - val_loss: 1.4630 - val_accuracy: 0.3933\n",
            "Epoch 18/100\n",
            "150/150 [==============================] - 0s 2ms/step - loss: 1.2450 - accuracy: 0.4833 - val_loss: 1.4462 - val_accuracy: 0.3933\n",
            "Epoch 19/100\n",
            "150/150 [==============================] - 1s 3ms/step - loss: 1.2085 - accuracy: 0.4875 - val_loss: 1.4025 - val_accuracy: 0.4100\n",
            "Epoch 20/100\n",
            "150/150 [==============================] - 1s 4ms/step - loss: 1.1772 - accuracy: 0.4983 - val_loss: 1.4023 - val_accuracy: 0.3967\n",
            "Epoch 21/100\n",
            "150/150 [==============================] - 1s 6ms/step - loss: 1.1475 - accuracy: 0.4942 - val_loss: 1.3933 - val_accuracy: 0.4000\n",
            "Epoch 22/100\n",
            "150/150 [==============================] - 1s 8ms/step - loss: 1.1203 - accuracy: 0.5108 - val_loss: 1.3803 - val_accuracy: 0.4033\n",
            "Epoch 23/100\n",
            "150/150 [==============================] - 2s 14ms/step - loss: 1.0960 - accuracy: 0.5058 - val_loss: 1.3678 - val_accuracy: 0.4133\n",
            "Epoch 24/100\n",
            "150/150 [==============================] - 1s 8ms/step - loss: 1.0747 - accuracy: 0.5008 - val_loss: 1.3609 - val_accuracy: 0.4400\n",
            "Epoch 25/100\n",
            "150/150 [==============================] - 1s 9ms/step - loss: 1.0527 - accuracy: 0.5167 - val_loss: 1.3498 - val_accuracy: 0.4700\n",
            "Epoch 26/100\n",
            "150/150 [==============================] - 1s 5ms/step - loss: 1.0330 - accuracy: 0.5175 - val_loss: 1.3342 - val_accuracy: 0.4233\n",
            "Epoch 27/100\n",
            "150/150 [==============================] - 1s 5ms/step - loss: 1.0147 - accuracy: 0.5200 - val_loss: 1.3289 - val_accuracy: 0.4600\n",
            "Epoch 28/100\n",
            "150/150 [==============================] - 0s 2ms/step - loss: 0.9982 - accuracy: 0.5275 - val_loss: 1.3185 - val_accuracy: 0.4400\n",
            "Epoch 29/100\n",
            "150/150 [==============================] - 0s 2ms/step - loss: 0.9825 - accuracy: 0.5383 - val_loss: 1.3120 - val_accuracy: 0.4567\n",
            "Epoch 30/100\n",
            "150/150 [==============================] - 0s 2ms/step - loss: 0.9698 - accuracy: 0.5275 - val_loss: 1.3025 - val_accuracy: 0.4233\n",
            "Epoch 31/100\n",
            "150/150 [==============================] - 0s 2ms/step - loss: 0.9569 - accuracy: 0.5317 - val_loss: 1.3009 - val_accuracy: 0.4333\n",
            "Epoch 32/100\n",
            "150/150 [==============================] - 0s 2ms/step - loss: 0.9461 - accuracy: 0.5233 - val_loss: 1.2938 - val_accuracy: 0.4833\n",
            "Epoch 33/100\n",
            "150/150 [==============================] - 0s 2ms/step - loss: 0.9341 - accuracy: 0.5442 - val_loss: 1.2975 - val_accuracy: 0.4467\n",
            "Epoch 34/100\n",
            "150/150 [==============================] - 0s 2ms/step - loss: 0.9227 - accuracy: 0.5475 - val_loss: 1.2795 - val_accuracy: 0.4900\n",
            "Epoch 35/100\n",
            "150/150 [==============================] - 0s 2ms/step - loss: 0.9103 - accuracy: 0.5867 - val_loss: 1.2728 - val_accuracy: 0.4833\n",
            "Epoch 36/100\n",
            "150/150 [==============================] - 0s 2ms/step - loss: 0.8962 - accuracy: 0.5975 - val_loss: 1.2591 - val_accuracy: 0.4933\n",
            "Epoch 37/100\n",
            "150/150 [==============================] - 0s 2ms/step - loss: 0.8838 - accuracy: 0.6208 - val_loss: 1.2667 - val_accuracy: 0.5033\n",
            "Epoch 38/100\n",
            "150/150 [==============================] - 0s 2ms/step - loss: 0.8707 - accuracy: 0.6292 - val_loss: 1.2696 - val_accuracy: 0.4967\n",
            "Epoch 39/100\n",
            "150/150 [==============================] - 0s 2ms/step - loss: 0.8563 - accuracy: 0.6467 - val_loss: 1.2180 - val_accuracy: 0.5600\n",
            "Epoch 40/100\n",
            "150/150 [==============================] - 0s 2ms/step - loss: 0.8353 - accuracy: 0.6917 - val_loss: 1.2253 - val_accuracy: 0.6267\n",
            "Epoch 41/100\n",
            "150/150 [==============================] - 0s 3ms/step - loss: 0.8098 - accuracy: 0.7392 - val_loss: 1.1913 - val_accuracy: 0.6733\n",
            "Epoch 42/100\n",
            "150/150 [==============================] - 0s 2ms/step - loss: 0.7857 - accuracy: 0.7725 - val_loss: 1.1794 - val_accuracy: 0.6800\n",
            "Epoch 43/100\n",
            "150/150 [==============================] - 0s 2ms/step - loss: 0.7567 - accuracy: 0.7925 - val_loss: 1.1735 - val_accuracy: 0.6800\n",
            "Epoch 44/100\n",
            "150/150 [==============================] - 0s 2ms/step - loss: 0.7268 - accuracy: 0.8008 - val_loss: 1.1505 - val_accuracy: 0.6667\n",
            "Epoch 45/100\n",
            "150/150 [==============================] - 0s 2ms/step - loss: 0.6907 - accuracy: 0.8167 - val_loss: 1.1250 - val_accuracy: 0.6767\n",
            "Epoch 46/100\n",
            "150/150 [==============================] - 0s 2ms/step - loss: 0.6555 - accuracy: 0.8258 - val_loss: 1.1258 - val_accuracy: 0.6900\n",
            "Epoch 47/100\n",
            "150/150 [==============================] - 0s 2ms/step - loss: 0.6216 - accuracy: 0.8267 - val_loss: 1.1051 - val_accuracy: 0.6933\n",
            "Epoch 48/100\n",
            "150/150 [==============================] - 0s 2ms/step - loss: 0.5906 - accuracy: 0.8317 - val_loss: 1.0806 - val_accuracy: 0.7167\n",
            "Epoch 49/100\n",
            "150/150 [==============================] - 0s 2ms/step - loss: 0.5634 - accuracy: 0.8583 - val_loss: 1.0583 - val_accuracy: 0.7067\n",
            "Epoch 50/100\n",
            "150/150 [==============================] - 0s 3ms/step - loss: 0.5337 - accuracy: 0.8633 - val_loss: 1.0328 - val_accuracy: 0.7267\n",
            "Epoch 51/100\n",
            "150/150 [==============================] - 1s 4ms/step - loss: 0.5052 - accuracy: 0.8758 - val_loss: 1.0191 - val_accuracy: 0.7300\n",
            "Epoch 52/100\n",
            "150/150 [==============================] - 1s 4ms/step - loss: 0.4816 - accuracy: 0.8825 - val_loss: 1.0141 - val_accuracy: 0.7233\n",
            "Epoch 53/100\n",
            "150/150 [==============================] - 1s 4ms/step - loss: 0.4581 - accuracy: 0.8942 - val_loss: 0.9983 - val_accuracy: 0.7333\n",
            "Epoch 54/100\n",
            "150/150 [==============================] - 1s 4ms/step - loss: 0.4353 - accuracy: 0.9008 - val_loss: 1.0109 - val_accuracy: 0.7467\n",
            "Epoch 55/100\n",
            "150/150 [==============================] - 1s 4ms/step - loss: 0.4155 - accuracy: 0.9075 - val_loss: 1.0133 - val_accuracy: 0.7400\n",
            "Epoch 56/100\n",
            "150/150 [==============================] - 0s 3ms/step - loss: 0.3945 - accuracy: 0.9092 - val_loss: 1.0115 - val_accuracy: 0.7333\n",
            "Epoch 57/100\n",
            "150/150 [==============================] - 0s 2ms/step - loss: 0.3783 - accuracy: 0.9175 - val_loss: 0.9837 - val_accuracy: 0.7367\n",
            "Epoch 58/100\n",
            "150/150 [==============================] - 0s 2ms/step - loss: 0.3600 - accuracy: 0.9258 - val_loss: 1.0223 - val_accuracy: 0.7367\n",
            "Epoch 59/100\n",
            "150/150 [==============================] - 0s 2ms/step - loss: 0.3455 - accuracy: 0.9283 - val_loss: 1.0102 - val_accuracy: 0.7367\n",
            "Epoch 60/100\n",
            "150/150 [==============================] - 0s 2ms/step - loss: 0.3315 - accuracy: 0.9342 - val_loss: 1.0062 - val_accuracy: 0.7533\n",
            "Epoch 61/100\n",
            "150/150 [==============================] - 0s 2ms/step - loss: 0.3188 - accuracy: 0.9383 - val_loss: 0.9980 - val_accuracy: 0.7400\n",
            "Epoch 62/100\n",
            "150/150 [==============================] - 0s 3ms/step - loss: 0.3069 - accuracy: 0.9417 - val_loss: 1.0149 - val_accuracy: 0.7300\n",
            "Epoch 63/100\n",
            "150/150 [==============================] - 0s 2ms/step - loss: 0.2966 - accuracy: 0.9458 - val_loss: 1.0266 - val_accuracy: 0.7433\n",
            "Epoch 64/100\n",
            "150/150 [==============================] - 0s 2ms/step - loss: 0.2858 - accuracy: 0.9500 - val_loss: 0.9994 - val_accuracy: 0.7400\n",
            "Epoch 65/100\n",
            "150/150 [==============================] - 0s 2ms/step - loss: 0.2742 - accuracy: 0.9492 - val_loss: 1.0106 - val_accuracy: 0.7467\n",
            "Epoch 66/100\n",
            "150/150 [==============================] - 0s 2ms/step - loss: 0.2652 - accuracy: 0.9550 - val_loss: 1.0067 - val_accuracy: 0.7500\n",
            "Epoch 67/100\n",
            "150/150 [==============================] - 0s 2ms/step - loss: 0.2560 - accuracy: 0.9567 - val_loss: 1.0222 - val_accuracy: 0.7533\n",
            "Epoch 68/100\n",
            "150/150 [==============================] - 0s 2ms/step - loss: 0.2507 - accuracy: 0.9558 - val_loss: 1.0080 - val_accuracy: 0.7467\n",
            "Epoch 69/100\n",
            "150/150 [==============================] - 0s 2ms/step - loss: 0.2398 - accuracy: 0.9583 - val_loss: 1.0258 - val_accuracy: 0.7667\n",
            "Epoch 70/100\n",
            "150/150 [==============================] - 0s 2ms/step - loss: 0.2251 - accuracy: 0.9667 - val_loss: 1.0008 - val_accuracy: 0.7733\n",
            "Epoch 71/100\n",
            "150/150 [==============================] - 0s 2ms/step - loss: 0.2157 - accuracy: 0.9700 - val_loss: 1.0435 - val_accuracy: 0.7667\n",
            "Epoch 72/100\n",
            "150/150 [==============================] - 0s 2ms/step - loss: 0.2046 - accuracy: 0.9708 - val_loss: 1.0180 - val_accuracy: 0.7800\n",
            "Epoch 73/100\n",
            "150/150 [==============================] - 0s 2ms/step - loss: 0.1945 - accuracy: 0.9758 - val_loss: 1.0266 - val_accuracy: 0.7833\n",
            "Epoch 74/100\n",
            "150/150 [==============================] - 0s 2ms/step - loss: 0.1851 - accuracy: 0.9783 - val_loss: 1.0351 - val_accuracy: 0.7700\n",
            "Epoch 75/100\n",
            "150/150 [==============================] - 0s 2ms/step - loss: 0.1807 - accuracy: 0.9792 - val_loss: 1.0492 - val_accuracy: 0.7700\n",
            "Epoch 76/100\n",
            "150/150 [==============================] - 0s 3ms/step - loss: 0.1728 - accuracy: 0.9825 - val_loss: 1.0764 - val_accuracy: 0.7667\n",
            "Epoch 77/100\n",
            "150/150 [==============================] - 0s 2ms/step - loss: 0.1644 - accuracy: 0.9833 - val_loss: 1.0841 - val_accuracy: 0.7567\n",
            "Epoch 78/100\n",
            "150/150 [==============================] - 0s 2ms/step - loss: 0.1539 - accuracy: 0.9833 - val_loss: 1.0912 - val_accuracy: 0.7600\n",
            "Epoch 79/100\n",
            "150/150 [==============================] - 0s 2ms/step - loss: 0.1490 - accuracy: 0.9850 - val_loss: 1.0962 - val_accuracy: 0.7700\n",
            "Epoch 80/100\n",
            "150/150 [==============================] - 0s 2ms/step - loss: 0.1405 - accuracy: 0.9850 - val_loss: 1.1061 - val_accuracy: 0.7600\n",
            "Epoch 81/100\n",
            "150/150 [==============================] - 0s 2ms/step - loss: 0.1316 - accuracy: 0.9858 - val_loss: 1.1088 - val_accuracy: 0.7600\n",
            "Epoch 82/100\n",
            "150/150 [==============================] - 0s 2ms/step - loss: 0.1268 - accuracy: 0.9867 - val_loss: 1.1370 - val_accuracy: 0.7533\n",
            "Epoch 83/100\n",
            "150/150 [==============================] - 0s 2ms/step - loss: 0.1243 - accuracy: 0.9883 - val_loss: 1.1277 - val_accuracy: 0.7633\n",
            "Epoch 84/100\n",
            "150/150 [==============================] - 1s 4ms/step - loss: 0.1211 - accuracy: 0.9883 - val_loss: 1.1744 - val_accuracy: 0.7500\n",
            "Epoch 85/100\n",
            "150/150 [==============================] - 1s 3ms/step - loss: 0.1302 - accuracy: 0.9842 - val_loss: 1.0907 - val_accuracy: 0.7700\n",
            "Epoch 86/100\n",
            "150/150 [==============================] - 1s 4ms/step - loss: 0.1191 - accuracy: 0.9850 - val_loss: 1.1617 - val_accuracy: 0.7600\n",
            "Epoch 87/100\n",
            "150/150 [==============================] - 1s 4ms/step - loss: 0.1103 - accuracy: 0.9892 - val_loss: 1.1365 - val_accuracy: 0.7567\n",
            "Epoch 88/100\n",
            "150/150 [==============================] - 1s 4ms/step - loss: 0.1030 - accuracy: 0.9900 - val_loss: 1.2116 - val_accuracy: 0.7633\n",
            "Epoch 89/100\n",
            "150/150 [==============================] - 1s 4ms/step - loss: 0.0989 - accuracy: 0.9908 - val_loss: 1.1570 - val_accuracy: 0.7667\n",
            "Epoch 90/100\n",
            "150/150 [==============================] - 1s 5ms/step - loss: 0.0953 - accuracy: 0.9900 - val_loss: 1.1448 - val_accuracy: 0.7633\n",
            "Epoch 91/100\n",
            "150/150 [==============================] - 1s 3ms/step - loss: 0.0900 - accuracy: 0.9900 - val_loss: 1.1843 - val_accuracy: 0.7533\n",
            "Epoch 92/100\n",
            "150/150 [==============================] - 1s 4ms/step - loss: 0.0881 - accuracy: 0.9908 - val_loss: 1.2171 - val_accuracy: 0.7600\n",
            "Epoch 93/100\n",
            "150/150 [==============================] - 1s 4ms/step - loss: 0.0881 - accuracy: 0.9908 - val_loss: 1.2015 - val_accuracy: 0.7567\n",
            "Epoch 94/100\n",
            "150/150 [==============================] - 1s 4ms/step - loss: 0.0866 - accuracy: 0.9900 - val_loss: 1.2011 - val_accuracy: 0.7600\n",
            "Epoch 95/100\n",
            "150/150 [==============================] - 0s 3ms/step - loss: 0.0813 - accuracy: 0.9908 - val_loss: 1.2095 - val_accuracy: 0.7500\n",
            "Epoch 96/100\n",
            "150/150 [==============================] - 0s 2ms/step - loss: 0.0786 - accuracy: 0.9908 - val_loss: 1.2812 - val_accuracy: 0.7400\n",
            "Epoch 97/100\n",
            "150/150 [==============================] - 0s 2ms/step - loss: 0.0782 - accuracy: 0.9908 - val_loss: 1.2278 - val_accuracy: 0.7533\n",
            "Epoch 98/100\n",
            "150/150 [==============================] - 0s 2ms/step - loss: 0.0740 - accuracy: 0.9908 - val_loss: 1.2563 - val_accuracy: 0.7467\n",
            "Epoch 99/100\n",
            "150/150 [==============================] - 0s 2ms/step - loss: 0.0743 - accuracy: 0.9908 - val_loss: 1.2261 - val_accuracy: 0.7467\n",
            "Epoch 100/100\n",
            "150/150 [==============================] - 0s 2ms/step - loss: 0.0724 - accuracy: 0.9908 - val_loss: 1.2447 - val_accuracy: 0.7533\n"
          ]
        },
        {
          "output_type": "execute_result",
          "data": {
            "text/plain": [
              "<keras.src.callbacks.History at 0x7c28807a2d70>"
            ]
          },
          "metadata": {},
          "execution_count": 13
        }
      ],
      "source": [
        "model = get_model(num_hidden_layers=3, activation=\"sigmoid\")\n",
        "cbs = [LayerWeightsCallback(i.name) for i in model.layers]\n",
        "model.fit(X_train, y_train_oh, epochs=100, batch_size=8,\n",
        "          validation_data=(X_test, y_test_oh), callbacks=cbs)"
      ]
    },
    {
      "cell_type": "code",
      "execution_count": 14,
      "metadata": {
        "id": "yNByw76cyBP_",
        "outputId": "c3e049c1-342c-4250-8470-d3a391fa8579",
        "colab": {
          "base_uri": "https://localhost:8080/",
          "height": 333
        }
      },
      "outputs": [
        {
          "output_type": "display_data",
          "data": {
            "text/plain": [
              "<Figure size 1200x300 with 2 Axes>"
            ],
            "image/png": "[encoded data removed]"
          },
          "metadata": {}
        }
      ],
      "source": [
        "\n",
        "def plot_epochs(cbset, title=\"\"):\n",
        "    cm = plt.cm.Blues\n",
        "    plt.figure(figsize=(12,3))\n",
        "    plt.subplot(121)\n",
        "    for i,cb in enumerate(cbset):\n",
        "        plt.plot(cb.mean_per_epoch, label=cb.layer_name, color=cm(int(255*(i+1)/(len(cbset)))))\n",
        "        plt.xlabel(\"epochs\"); plt.grid(); plt.title(title+\" mean\")\n",
        "    plt.subplot(122)\n",
        "    for i,cb in enumerate(cbset):\n",
        "        plt.plot(cb.std_per_epoch, label=cb.layer_name, color=cm(int(255*(i+1)/(len(cbset)))))\n",
        "        plt.xlabel(\"epochs\"); plt.grid(); plt.title(title+\" std\")\n",
        "    plt.legend(loc='center left', bbox_to_anchor=(1, 0.5))\n",
        "\n",
        "plot_epochs(cbs, \"WEIGHTS\")\n"
      ]
    },
    {
      "cell_type": "markdown",
      "metadata": {
        "id": "OK0YMR3MyBQA"
      },
      "source": [
        "**Registra tu solución en linea**"
      ]
    },
    {
      "cell_type": "code",
      "execution_count": 15,
      "metadata": {
        "scrolled": true,
        "id": "qn7Oj031yBQA",
        "outputId": "e8a04e8c-684d-4ba1-d600-96a6ca4235f3",
        "colab": {
          "base_uri": "https://localhost:8080/",
          "height": 111
        }
      },
      "outputs": [
        {
          "output_type": "display_data",
          "data": {
            "text/plain": [
              "<IPython.core.display.HTML object>"
            ],
            "text/html": [
              "\n",
              "                    <b>T1 submitted.</b> <b><font color=\"blue\">your grade is 5</font></b> \n",
              "                    <p/><pre>----- grader message -------</pre><b>correct</b><pre>----------------------------</pre>\n",
              "                    <p/><p/>\n",
              "                    <div style=\"font-size:10px\"><b>SUBMISSION CODE</b> 7egT1bDyrDih9XRC300nvLJ0jQSCGTEUlm+PTrNbU0IlUNQEWi0W4RZRagh+bsPo6sgKBcm4/GWv9bBsLVY14wQ2WAMoX7Mo/F66KkIPP+EuRCJ1WJzcET6CER0XjNcDhR0pfmL2qRYWWJzC0vfo1uMnp/Pd22vsZiAYN3F+r0o=</div>\n",
              "                    "
            ]
          },
          "metadata": {}
        }
      ],
      "source": [
        "student.submit_task(namespace=globals(), task_id='T1');"
      ]
    },
    {
      "cell_type": "markdown",
      "metadata": {
        "id": "p6op9s-eyBQA"
      },
      "source": [
        "## TASK 2: Activations monitoring callback\n"
      ]
    },
    {
      "cell_type": "markdown",
      "metadata": {
        "id": "aAeO2kLxyBQA"
      },
      "source": [
        "observe how, given a model and a certain input, we can get the activations at different layers in a very straight forward manner. If we do this before training (`.fit`) it is also ok, the model will simply use the initial random weights."
      ]
    },
    {
      "cell_type": "code",
      "execution_count": 16,
      "metadata": {
        "id": "6OvHeRDxyBQA",
        "outputId": "56807da5-ee05-4ac0-d20f-14f662ebe533",
        "colab": {
          "base_uri": "https://localhost:8080/"
        }
      },
      "outputs": [
        {
          "output_type": "stream",
          "name": "stdout",
          "text": [
            "Model: \"sequential_2\"\n",
            "_________________________________________________________________\n",
            " Layer (type)                Output Shape              Param #   \n",
            "=================================================================\n",
            " Layer_00_Input (Dense)      (None, 10)                7850      \n",
            "                                                                 \n",
            " Layer_01_Hidden (Dense)     (None, 10)                110       \n",
            "                                                                 \n",
            " Layer_02_Hidden (Dense)     (None, 10)                110       \n",
            "                                                                 \n",
            " Layer_03_Hidden (Dense)     (None, 10)                110       \n",
            "                                                                 \n",
            " Layer_04_Output (Dense)     (None, 10)                110       \n",
            "                                                                 \n",
            "=================================================================\n",
            "Total params: 8290 (32.38 KB)\n",
            "Trainable params: 8290 (32.38 KB)\n",
            "Non-trainable params: 0 (0.00 Byte)\n",
            "_________________________________________________________________\n"
          ]
        }
      ],
      "source": [
        "model = get_model(num_hidden_layers=3, activation=\"sigmoid\")\n",
        "model.summary()"
      ]
    },
    {
      "cell_type": "code",
      "execution_count": 17,
      "metadata": {
        "id": "RcYL5v21yBQA",
        "outputId": "fe9e9210-0a05-4e82-c0a4-85205e3ac702",
        "colab": {
          "base_uri": "https://localhost:8080/"
        }
      },
      "outputs": [
        {
          "output_type": "execute_result",
          "data": {
            "text/plain": [
              "(TensorShape([1200, 10]), TensorShape([1200, 10]))"
            ]
          },
          "metadata": {},
          "execution_count": 17
        }
      ],
      "source": [
        "activations_layer_0 = model.layers[0](X_train)\n",
        "activations_layer_1 = model.layers[1](activations_layer_0)\n",
        "activations_layer_0.shape, activations_layer_1.shape"
      ]
    },
    {
      "cell_type": "markdown",
      "metadata": {
        "id": "zit4686ryBQA"
      },
      "source": [
        "Create a callback that:\n",
        "\n",
        "- when each epoch ends, feeds `self.X` into the model and retrieves the activations at the output of layer with name `self.layer_name`.\n",
        "- computes the mean and standard deviation of those activations.\n",
        "- appends them to `self.mean_per_epoch` and `self.std_per_epoch`\n",
        "\n",
        "When used with a model, at the end of any training it will contain a list of activations means and another list of activation stds, both with one element per each epoch. With this we can monitor how the activation in a specific layer progress over the training process. Tensorboard offers a similar functionality, but the goal with this task is to get acquainted with the callback mechanism."
      ]
    },
    {
      "cell_type": "code",
      "execution_count": 51,
      "metadata": {
        "id": "SOIEZdTbyBQB"
      },
      "outputs": [],
      "source": [
        "import numpy as np\n",
        "import tensorflow as tf\n",
        "from tensorflow.keras.callbacks import Callback\n",
        "\n",
        "def TrainValActivationsCallback(layer_name, X):\n",
        "    class TrainValActivationsCallback_class(Callback):\n",
        "\n",
        "        def __init__(self, layer_name, X):\n",
        "            super().__init__()\n",
        "            self.mean_per_epoch = []\n",
        "            self.std_per_epoch = []\n",
        "            self.layer_name = layer_name\n",
        "            self.X = X\n",
        "\n",
        "        def on_epoch_end(self, epoch, logs=None):\n",
        "            # Feed self.X into the model and get the activations at layer_name\n",
        "            layer = self.model.get_layer(name=self.layer_name)\n",
        "            get_activations = tf.keras.backend.function([self.model.input], [layer.output])\n",
        "            activations = get_activations([self.X])[0]\n",
        "\n",
        "            # Compute the mean and standard deviation\n",
        "            mean = np.mean(activations)\n",
        "            std = np.std(activations)\n",
        "\n",
        "            # Append the computed values to the lists\n",
        "            self.mean_per_epoch.append(mean)\n",
        "            self.std_per_epoch.append(std)\n",
        "\n",
        "    return TrainValActivationsCallback_class(layer_name, X)\n"
      ]
    },
    {
      "cell_type": "markdown",
      "metadata": {
        "id": "BI5iW_ZDyBQB"
      },
      "source": [
        "test your code with the following cell. Observe that\n",
        "\n",
        "- we create a small input dataset and model\n",
        "- invoke your callback implementation\n",
        "- your callback must contain two lists: `mean_per_epoch` and `std_per_epoch` with one single value each\n",
        "- you can check that single value with our computation. We do this computation in two different ways (1) by using explicitly the model layers; and (2) by using matrix multiplication with layers weights (`linear activation`== `no activation`)"
      ]
    },
    {
      "cell_type": "code",
      "execution_count": 46,
      "metadata": {
        "id": "mh-4zUOhyBQB",
        "outputId": "dbb42ad2-761e-4eaf-a11b-03c97cef7b9a",
        "colab": {
          "base_uri": "https://localhost:8080/"
        }
      },
      "outputs": [
        {
          "output_type": "stream",
          "name": "stdout",
          "text": [
            "input data\n",
            " [[0.50216186 0.03333711]\n",
            " [0.5070379  0.38274384]\n",
            " [0.99122477 0.43339074]\n",
            " [0.5310999  0.39700487]\n",
            " [0.3582909  0.32577232]]\n",
            "\n",
            "activations at Layer_02_Hidden\n",
            "\n",
            "activation mean/std with your callback [0.006603333] [0.038676728]\n",
            "using model layer functions             0.006603333 0.038676728\n",
            "manual matrix mult linear activation    0.006603333 0.038676728\n"
          ]
        }
      ],
      "source": [
        "X_in = np.random.random(size=(5,2)).astype(np.float32)\n",
        "print (\"input data\\n\", X_in)\n",
        "model = get_model(input_dim=2, output_dim=3, num_hidden_layers=2, hidden_size=2, activation=\"linear\")\n",
        "layer_name = 'Layer_02_Hidden'\n",
        "layer = model.get_layer(layer_name)\n",
        "\n",
        "cb = TrainValActivationsCallback(layer.name, X_in)\n",
        "cb.model = model\n",
        "cb.on_epoch_end(epoch)\n",
        "\n",
        "print (\"\\nactivations at\", layer_name)\n",
        "print (\"\\nactivation mean/std with your callback\", cb.mean_per_epoch, cb.std_per_epoch)\n",
        "\n",
        "l0,l1,l2,l3 = model.layers\n",
        "a = l2(l1(l0(X_in))).numpy()\n",
        "print (\"using model layer functions            \", a.mean(), a.std())\n",
        "\n",
        "a = X_in.dot(l0.get_weights()[0]).dot(l1.get_weights()[0]).dot(l2.get_weights()[0])\n",
        "print (\"manual matrix mult linear activation   \", a.mean(), a.std())"
      ]
    },
    {
      "cell_type": "code",
      "execution_count": null,
      "metadata": {
        "id": "MO4fECRByBQB"
      },
      "outputs": [],
      "source": []
    },
    {
      "cell_type": "markdown",
      "metadata": {
        "id": "HZ-5qJ1LyBQB"
      },
      "source": [
        "Now you can use your class to keep track of activations while training. We choose to keep track of activations with your callback for all the layers.\n",
        "\n",
        "Observe how we plot the activations progress with the data gathered by your callback. What interpretation can you give to the plots?\n",
        "\n",
        "In this case, we are creating a callback for each layer for train and for test data. If activations are similar in both train and test it may mean that the train/test splits are being treated similarly by the model."
      ]
    },
    {
      "cell_type": "code",
      "execution_count": 47,
      "metadata": {
        "id": "yrI23dCjyBQB",
        "outputId": "bccee3bf-bb87-4046-be7a-3961bedac879",
        "colab": {
          "base_uri": "https://localhost:8080/"
        }
      },
      "outputs": [
        {
          "output_type": "stream",
          "name": "stdout",
          "text": [
            "Epoch 1/100\n",
            "38/38 [==============================] - 1s 10ms/step - loss: 2.3285 - accuracy: 0.1208 - val_loss: 2.3319 - val_accuracy: 0.0733\n",
            "Epoch 2/100\n",
            "38/38 [==============================] - 0s 5ms/step - loss: 2.3041 - accuracy: 0.1083 - val_loss: 2.3113 - val_accuracy: 0.0833\n",
            "Epoch 3/100\n",
            "38/38 [==============================] - 0s 5ms/step - loss: 2.2935 - accuracy: 0.1317 - val_loss: 2.3000 - val_accuracy: 0.1233\n",
            "Epoch 4/100\n",
            "38/38 [==============================] - 0s 5ms/step - loss: 2.2861 - accuracy: 0.1242 - val_loss: 2.2915 - val_accuracy: 0.1233\n",
            "Epoch 5/100\n",
            "38/38 [==============================] - 0s 5ms/step - loss: 2.2779 - accuracy: 0.1242 - val_loss: 2.2796 - val_accuracy: 0.1233\n",
            "Epoch 6/100\n",
            "38/38 [==============================] - 0s 5ms/step - loss: 2.2672 - accuracy: 0.1242 - val_loss: 2.2653 - val_accuracy: 0.1233\n",
            "Epoch 7/100\n",
            "38/38 [==============================] - 0s 5ms/step - loss: 2.2520 - accuracy: 0.1242 - val_loss: 2.2478 - val_accuracy: 0.1233\n",
            "Epoch 8/100\n",
            "38/38 [==============================] - 0s 5ms/step - loss: 2.2286 - accuracy: 0.1617 - val_loss: 2.2216 - val_accuracy: 0.2000\n",
            "Epoch 9/100\n",
            "38/38 [==============================] - 0s 5ms/step - loss: 2.1984 - accuracy: 0.2192 - val_loss: 2.1869 - val_accuracy: 0.2167\n",
            "Epoch 10/100\n",
            "38/38 [==============================] - 0s 5ms/step - loss: 2.1591 - accuracy: 0.2400 - val_loss: 2.1419 - val_accuracy: 0.2167\n",
            "Epoch 11/100\n",
            "38/38 [==============================] - 0s 5ms/step - loss: 2.1134 - accuracy: 0.2175 - val_loss: 2.0958 - val_accuracy: 0.1867\n",
            "Epoch 12/100\n",
            "38/38 [==============================] - 0s 5ms/step - loss: 2.0633 - accuracy: 0.2308 - val_loss: 2.0493 - val_accuracy: 0.1933\n",
            "Epoch 13/100\n",
            "38/38 [==============================] - 0s 5ms/step - loss: 2.0162 - accuracy: 0.2250 - val_loss: 2.0038 - val_accuracy: 0.2067\n",
            "Epoch 14/100\n",
            "38/38 [==============================] - 0s 7ms/step - loss: 1.9725 - accuracy: 0.2083 - val_loss: 1.9681 - val_accuracy: 0.1767\n",
            "Epoch 15/100\n",
            "38/38 [==============================] - 0s 8ms/step - loss: 1.9361 - accuracy: 0.2092 - val_loss: 1.9362 - val_accuracy: 0.2033\n",
            "Epoch 16/100\n",
            "38/38 [==============================] - 0s 7ms/step - loss: 1.9033 - accuracy: 0.2158 - val_loss: 1.9124 - val_accuracy: 0.2100\n",
            "Epoch 17/100\n",
            "38/38 [==============================] - 0s 7ms/step - loss: 1.8773 - accuracy: 0.2183 - val_loss: 1.8939 - val_accuracy: 0.2133\n",
            "Epoch 18/100\n",
            "38/38 [==============================] - 0s 7ms/step - loss: 1.8546 - accuracy: 0.2183 - val_loss: 1.8779 - val_accuracy: 0.2100\n",
            "Epoch 19/100\n",
            "38/38 [==============================] - 0s 8ms/step - loss: 1.8363 - accuracy: 0.2200 - val_loss: 1.8665 - val_accuracy: 0.2100\n",
            "Epoch 20/100\n",
            "38/38 [==============================] - 0s 7ms/step - loss: 1.8197 - accuracy: 0.2233 - val_loss: 1.8559 - val_accuracy: 0.2100\n",
            "Epoch 21/100\n",
            "38/38 [==============================] - 0s 9ms/step - loss: 1.8067 - accuracy: 0.2192 - val_loss: 1.8473 - val_accuracy: 0.2100\n",
            "Epoch 22/100\n",
            "38/38 [==============================] - 0s 8ms/step - loss: 1.7951 - accuracy: 0.2233 - val_loss: 1.8407 - val_accuracy: 0.2100\n",
            "Epoch 23/100\n",
            "38/38 [==============================] - 0s 8ms/step - loss: 1.7848 - accuracy: 0.2292 - val_loss: 1.8374 - val_accuracy: 0.2133\n",
            "Epoch 24/100\n",
            "38/38 [==============================] - 0s 8ms/step - loss: 1.7764 - accuracy: 0.2292 - val_loss: 1.8377 - val_accuracy: 0.2133\n",
            "Epoch 25/100\n",
            "38/38 [==============================] - 0s 5ms/step - loss: 1.7674 - accuracy: 0.2342 - val_loss: 1.8274 - val_accuracy: 0.2200\n",
            "Epoch 26/100\n",
            "38/38 [==============================] - 0s 5ms/step - loss: 1.7579 - accuracy: 0.2525 - val_loss: 1.8234 - val_accuracy: 0.2633\n",
            "Epoch 27/100\n",
            "38/38 [==============================] - 0s 5ms/step - loss: 1.7490 - accuracy: 0.3000 - val_loss: 1.8164 - val_accuracy: 0.2767\n",
            "Epoch 28/100\n",
            "38/38 [==============================] - 0s 5ms/step - loss: 1.7368 - accuracy: 0.3117 - val_loss: 1.8127 - val_accuracy: 0.2867\n",
            "Epoch 29/100\n",
            "38/38 [==============================] - 0s 5ms/step - loss: 1.7245 - accuracy: 0.3108 - val_loss: 1.8048 - val_accuracy: 0.2800\n",
            "Epoch 30/100\n",
            "38/38 [==============================] - 0s 6ms/step - loss: 1.7121 - accuracy: 0.3117 - val_loss: 1.7987 - val_accuracy: 0.2733\n",
            "Epoch 31/100\n",
            "38/38 [==============================] - 0s 5ms/step - loss: 1.6985 - accuracy: 0.3192 - val_loss: 1.7919 - val_accuracy: 0.2767\n",
            "Epoch 32/100\n",
            "38/38 [==============================] - 0s 5ms/step - loss: 1.6848 - accuracy: 0.3192 - val_loss: 1.7835 - val_accuracy: 0.2800\n",
            "Epoch 33/100\n",
            "38/38 [==============================] - 0s 5ms/step - loss: 1.6696 - accuracy: 0.3117 - val_loss: 1.7793 - val_accuracy: 0.2900\n",
            "Epoch 34/100\n",
            "38/38 [==============================] - 0s 5ms/step - loss: 1.6558 - accuracy: 0.3192 - val_loss: 1.7749 - val_accuracy: 0.2733\n",
            "Epoch 35/100\n",
            "38/38 [==============================] - 0s 6ms/step - loss: 1.6435 - accuracy: 0.3075 - val_loss: 1.7694 - val_accuracy: 0.2767\n",
            "Epoch 36/100\n",
            "38/38 [==============================] - 0s 5ms/step - loss: 1.6309 - accuracy: 0.3158 - val_loss: 1.7671 - val_accuracy: 0.2767\n",
            "Epoch 37/100\n",
            "38/38 [==============================] - 0s 5ms/step - loss: 1.6176 - accuracy: 0.3183 - val_loss: 1.7641 - val_accuracy: 0.2700\n",
            "Epoch 38/100\n",
            "38/38 [==============================] - 0s 5ms/step - loss: 1.6065 - accuracy: 0.3125 - val_loss: 1.7566 - val_accuracy: 0.2767\n",
            "Epoch 39/100\n",
            "38/38 [==============================] - 0s 5ms/step - loss: 1.5959 - accuracy: 0.3158 - val_loss: 1.7546 - val_accuracy: 0.2733\n",
            "Epoch 40/100\n",
            "38/38 [==============================] - 0s 5ms/step - loss: 1.5863 - accuracy: 0.3217 - val_loss: 1.7507 - val_accuracy: 0.2767\n",
            "Epoch 41/100\n",
            "38/38 [==============================] - 0s 6ms/step - loss: 1.5759 - accuracy: 0.3200 - val_loss: 1.7479 - val_accuracy: 0.2667\n",
            "Epoch 42/100\n",
            "38/38 [==============================] - 0s 5ms/step - loss: 1.5660 - accuracy: 0.3158 - val_loss: 1.7431 - val_accuracy: 0.2800\n",
            "Epoch 43/100\n",
            "38/38 [==============================] - 0s 5ms/step - loss: 1.5558 - accuracy: 0.3442 - val_loss: 1.7378 - val_accuracy: 0.2800\n",
            "Epoch 44/100\n",
            "38/38 [==============================] - 0s 5ms/step - loss: 1.5461 - accuracy: 0.3208 - val_loss: 1.7341 - val_accuracy: 0.2833\n",
            "Epoch 45/100\n",
            "38/38 [==============================] - 0s 5ms/step - loss: 1.5356 - accuracy: 0.3133 - val_loss: 1.7272 - val_accuracy: 0.3233\n",
            "Epoch 46/100\n",
            "38/38 [==============================] - 0s 6ms/step - loss: 1.5249 - accuracy: 0.3533 - val_loss: 1.7205 - val_accuracy: 0.3500\n",
            "Epoch 47/100\n",
            "38/38 [==============================] - 0s 5ms/step - loss: 1.5130 - accuracy: 0.3883 - val_loss: 1.7125 - val_accuracy: 0.3600\n",
            "Epoch 48/100\n",
            "38/38 [==============================] - 0s 5ms/step - loss: 1.5009 - accuracy: 0.3942 - val_loss: 1.7068 - val_accuracy: 0.3600\n",
            "Epoch 49/100\n",
            "38/38 [==============================] - 0s 5ms/step - loss: 1.4879 - accuracy: 0.3933 - val_loss: 1.6988 - val_accuracy: 0.3667\n",
            "Epoch 50/100\n",
            "38/38 [==============================] - 0s 5ms/step - loss: 1.4753 - accuracy: 0.4025 - val_loss: 1.6883 - val_accuracy: 0.3600\n",
            "Epoch 51/100\n",
            "38/38 [==============================] - 0s 5ms/step - loss: 1.4613 - accuracy: 0.3983 - val_loss: 1.6826 - val_accuracy: 0.3667\n",
            "Epoch 52/100\n",
            "38/38 [==============================] - 0s 5ms/step - loss: 1.4473 - accuracy: 0.4008 - val_loss: 1.6719 - val_accuracy: 0.3600\n",
            "Epoch 53/100\n",
            "38/38 [==============================] - 0s 5ms/step - loss: 1.4338 - accuracy: 0.4025 - val_loss: 1.6632 - val_accuracy: 0.3600\n",
            "Epoch 54/100\n",
            "38/38 [==============================] - 0s 5ms/step - loss: 1.4189 - accuracy: 0.3992 - val_loss: 1.6556 - val_accuracy: 0.3567\n",
            "Epoch 55/100\n",
            "38/38 [==============================] - 0s 5ms/step - loss: 1.4056 - accuracy: 0.4067 - val_loss: 1.6496 - val_accuracy: 0.3467\n",
            "Epoch 56/100\n",
            "38/38 [==============================] - 0s 5ms/step - loss: 1.3918 - accuracy: 0.4092 - val_loss: 1.6415 - val_accuracy: 0.3533\n",
            "Epoch 57/100\n",
            "38/38 [==============================] - 0s 5ms/step - loss: 1.3769 - accuracy: 0.3983 - val_loss: 1.6287 - val_accuracy: 0.3533\n",
            "Epoch 58/100\n",
            "38/38 [==============================] - 0s 5ms/step - loss: 1.3643 - accuracy: 0.4067 - val_loss: 1.6216 - val_accuracy: 0.3633\n",
            "Epoch 59/100\n",
            "38/38 [==============================] - 0s 5ms/step - loss: 1.3509 - accuracy: 0.4125 - val_loss: 1.6109 - val_accuracy: 0.3633\n",
            "Epoch 60/100\n",
            "38/38 [==============================] - 0s 5ms/step - loss: 1.3379 - accuracy: 0.4150 - val_loss: 1.6123 - val_accuracy: 0.3667\n",
            "Epoch 61/100\n",
            "38/38 [==============================] - 0s 5ms/step - loss: 1.3259 - accuracy: 0.4167 - val_loss: 1.6083 - val_accuracy: 0.3700\n",
            "Epoch 62/100\n",
            "38/38 [==============================] - 0s 5ms/step - loss: 1.3141 - accuracy: 0.4167 - val_loss: 1.6037 - val_accuracy: 0.3667\n",
            "Epoch 63/100\n",
            "38/38 [==============================] - 0s 5ms/step - loss: 1.3035 - accuracy: 0.4092 - val_loss: 1.6052 - val_accuracy: 0.3667\n",
            "Epoch 64/100\n",
            "38/38 [==============================] - 0s 5ms/step - loss: 1.2920 - accuracy: 0.4192 - val_loss: 1.5875 - val_accuracy: 0.3633\n",
            "Epoch 65/100\n",
            "38/38 [==============================] - 0s 5ms/step - loss: 1.2830 - accuracy: 0.4192 - val_loss: 1.5883 - val_accuracy: 0.3633\n",
            "Epoch 66/100\n",
            "38/38 [==============================] - 0s 6ms/step - loss: 1.2736 - accuracy: 0.4208 - val_loss: 1.5875 - val_accuracy: 0.3633\n",
            "Epoch 67/100\n",
            "38/38 [==============================] - 0s 5ms/step - loss: 1.2630 - accuracy: 0.4100 - val_loss: 1.5922 - val_accuracy: 0.3633\n",
            "Epoch 68/100\n",
            "38/38 [==============================] - 0s 5ms/step - loss: 1.2552 - accuracy: 0.4383 - val_loss: 1.5880 - val_accuracy: 0.3633\n",
            "Epoch 69/100\n",
            "38/38 [==============================] - 0s 5ms/step - loss: 1.2463 - accuracy: 0.4025 - val_loss: 1.5855 - val_accuracy: 0.3600\n",
            "Epoch 70/100\n",
            "38/38 [==============================] - 0s 5ms/step - loss: 1.2386 - accuracy: 0.4225 - val_loss: 1.5901 - val_accuracy: 0.3667\n",
            "Epoch 71/100\n",
            "38/38 [==============================] - 0s 5ms/step - loss: 1.2304 - accuracy: 0.4225 - val_loss: 1.5873 - val_accuracy: 0.3633\n",
            "Epoch 72/100\n",
            "38/38 [==============================] - 0s 5ms/step - loss: 1.2235 - accuracy: 0.4350 - val_loss: 1.5902 - val_accuracy: 0.3900\n",
            "Epoch 73/100\n",
            "38/38 [==============================] - 0s 5ms/step - loss: 1.2160 - accuracy: 0.4333 - val_loss: 1.5820 - val_accuracy: 0.3600\n",
            "Epoch 74/100\n",
            "38/38 [==============================] - 0s 5ms/step - loss: 1.2089 - accuracy: 0.4242 - val_loss: 1.5801 - val_accuracy: 0.3600\n",
            "Epoch 75/100\n",
            "38/38 [==============================] - 0s 8ms/step - loss: 1.2027 - accuracy: 0.4558 - val_loss: 1.5808 - val_accuracy: 0.3600\n",
            "Epoch 76/100\n",
            "38/38 [==============================] - 0s 8ms/step - loss: 1.1966 - accuracy: 0.4242 - val_loss: 1.5870 - val_accuracy: 0.3600\n",
            "Epoch 77/100\n",
            "38/38 [==============================] - 0s 7ms/step - loss: 1.1917 - accuracy: 0.4308 - val_loss: 1.5822 - val_accuracy: 0.3867\n",
            "Epoch 78/100\n",
            "38/38 [==============================] - 0s 8ms/step - loss: 1.1854 - accuracy: 0.4258 - val_loss: 1.5794 - val_accuracy: 0.3567\n",
            "Epoch 79/100\n",
            "38/38 [==============================] - 0s 7ms/step - loss: 1.1801 - accuracy: 0.4250 - val_loss: 1.5784 - val_accuracy: 0.3600\n",
            "Epoch 80/100\n",
            "38/38 [==============================] - 0s 8ms/step - loss: 1.1753 - accuracy: 0.4258 - val_loss: 1.5800 - val_accuracy: 0.3567\n",
            "Epoch 81/100\n",
            "38/38 [==============================] - 0s 8ms/step - loss: 1.1701 - accuracy: 0.4367 - val_loss: 1.5796 - val_accuracy: 0.3600\n",
            "Epoch 82/100\n",
            "38/38 [==============================] - 0s 9ms/step - loss: 1.1658 - accuracy: 0.4408 - val_loss: 1.5818 - val_accuracy: 0.3633\n",
            "Epoch 83/100\n",
            "38/38 [==============================] - 0s 9ms/step - loss: 1.1613 - accuracy: 0.4258 - val_loss: 1.5798 - val_accuracy: 0.3567\n",
            "Epoch 84/100\n",
            "38/38 [==============================] - 0s 9ms/step - loss: 1.1574 - accuracy: 0.4467 - val_loss: 1.5831 - val_accuracy: 0.3533\n",
            "Epoch 85/100\n",
            "38/38 [==============================] - 0s 6ms/step - loss: 1.1524 - accuracy: 0.4092 - val_loss: 1.5811 - val_accuracy: 0.3600\n",
            "Epoch 86/100\n",
            "38/38 [==============================] - 0s 5ms/step - loss: 1.1476 - accuracy: 0.4283 - val_loss: 1.5801 - val_accuracy: 0.3600\n",
            "Epoch 87/100\n",
            "38/38 [==============================] - 0s 5ms/step - loss: 1.1429 - accuracy: 0.4417 - val_loss: 1.5813 - val_accuracy: 0.3967\n",
            "Epoch 88/100\n",
            "38/38 [==============================] - 0s 6ms/step - loss: 1.1390 - accuracy: 0.4592 - val_loss: 1.5849 - val_accuracy: 0.3933\n",
            "Epoch 89/100\n",
            "38/38 [==============================] - 0s 6ms/step - loss: 1.1354 - accuracy: 0.4275 - val_loss: 1.5854 - val_accuracy: 0.3533\n",
            "Epoch 90/100\n",
            "38/38 [==============================] - 0s 5ms/step - loss: 1.1319 - accuracy: 0.4225 - val_loss: 1.5796 - val_accuracy: 0.3633\n",
            "Epoch 91/100\n",
            "38/38 [==============================] - 0s 5ms/step - loss: 1.1295 - accuracy: 0.4417 - val_loss: 1.5752 - val_accuracy: 0.3833\n",
            "Epoch 92/100\n",
            "38/38 [==============================] - 0s 5ms/step - loss: 1.1259 - accuracy: 0.4400 - val_loss: 1.5821 - val_accuracy: 0.3500\n",
            "Epoch 93/100\n",
            "38/38 [==============================] - 0s 5ms/step - loss: 1.1216 - accuracy: 0.4267 - val_loss: 1.5733 - val_accuracy: 0.3600\n",
            "Epoch 94/100\n",
            "38/38 [==============================] - 0s 5ms/step - loss: 1.1169 - accuracy: 0.4200 - val_loss: 1.5766 - val_accuracy: 0.4000\n",
            "Epoch 95/100\n",
            "38/38 [==============================] - 0s 5ms/step - loss: 1.1121 - accuracy: 0.4400 - val_loss: 1.5767 - val_accuracy: 0.4000\n",
            "Epoch 96/100\n",
            "38/38 [==============================] - 0s 5ms/step - loss: 1.1085 - accuracy: 0.4650 - val_loss: 1.5755 - val_accuracy: 0.3533\n",
            "Epoch 97/100\n",
            "38/38 [==============================] - 0s 5ms/step - loss: 1.1046 - accuracy: 0.4325 - val_loss: 1.5747 - val_accuracy: 0.3533\n",
            "Epoch 98/100\n",
            "38/38 [==============================] - 0s 5ms/step - loss: 1.1002 - accuracy: 0.4483 - val_loss: 1.5752 - val_accuracy: 0.4000\n",
            "Epoch 99/100\n",
            "38/38 [==============================] - 0s 5ms/step - loss: 1.0970 - accuracy: 0.4575 - val_loss: 1.5742 - val_accuracy: 0.3533\n",
            "Epoch 100/100\n",
            "38/38 [==============================] - 0s 6ms/step - loss: 1.0923 - accuracy: 0.4825 - val_loss: 1.5692 - val_accuracy: 0.4400\n"
          ]
        },
        {
          "output_type": "execute_result",
          "data": {
            "text/plain": [
              "<keras.src.callbacks.History at 0x7c287da13610>"
            ]
          },
          "metadata": {},
          "execution_count": 47
        }
      ],
      "source": [
        "model = get_model(num_hidden_layers=3, activation=\"sigmoid\")\n",
        "cbs_train = [TrainValActivationsCallback(i.name, X_train) for i in model.layers]\n",
        "cbs_test  = [TrainValActivationsCallback(i.name, X_test) for i in model.layers]\n",
        "model.fit(X_train, y_train_oh, epochs=100, batch_size=32,\n",
        "          validation_data=(X_test, y_test_oh), callbacks=cbs_train+cbs_test)"
      ]
    },
    {
      "cell_type": "code",
      "execution_count": 48,
      "metadata": {
        "id": "9vnSXeCHyBQB",
        "outputId": "74008f65-d739-4384-8157-484d1ffec5b7",
        "colab": {
          "base_uri": "https://localhost:8080/",
          "height": 333
        }
      },
      "outputs": [
        {
          "output_type": "display_data",
          "data": {
            "text/plain": [
              "<Figure size 1200x300 with 2 Axes>"
            ],
            "image/png": "[encoded data removed]"
          },
          "metadata": {}
        }
      ],
      "source": [
        "\n",
        "plot_epochs(cbs_train, \"ACTIVATIONS TRAIN\")\n"
      ]
    },
    {
      "cell_type": "code",
      "execution_count": 49,
      "metadata": {
        "id": "_UBj8jxnyBQB",
        "outputId": "80ea5978-0352-4220-a439-f5837ae48a65",
        "colab": {
          "base_uri": "https://localhost:8080/",
          "height": 333
        }
      },
      "outputs": [
        {
          "output_type": "display_data",
          "data": {
            "text/plain": [
              "<Figure size 1200x300 with 2 Axes>"
            ],
            "image/png": "[encoded data removed]"
          },
          "metadata": {}
        }
      ],
      "source": [
        "\n",
        "plot_epochs(cbs_test, \"ACTIVATIONS TEST\")\n"
      ]
    },
    {
      "cell_type": "markdown",
      "metadata": {
        "id": "PSacI6mdyBQB"
      },
      "source": [
        "**Registra tu solución en linea**"
      ]
    },
    {
      "cell_type": "code",
      "execution_count": 52,
      "metadata": {
        "scrolled": true,
        "id": "0CiAjsrayBQC",
        "outputId": "4882fe2d-8096-4626-dc58-f2bcfbb84e4e",
        "colab": {
          "base_uri": "https://localhost:8080/",
          "height": 111
        }
      },
      "outputs": [
        {
          "output_type": "display_data",
          "data": {
            "text/plain": [
              "<IPython.core.display.HTML object>"
            ],
            "text/html": [
              "\n",
              "                    <b>T2 submitted.</b> <b><font color=\"blue\">your grade is 5</font></b> \n",
              "                    <p/><pre>----- grader message -------</pre><b>correct</b><pre>----------------------------</pre>\n",
              "                    <p/><p/>\n",
              "                    <div style=\"font-size:10px\"><b>SUBMISSION CODE</b> wdsr8gV62x0xIofNqh0hsL/bVXeP7l6KrAGhsdKr+Nq6BGB41nwnzzdCCvaM/yjLjIO5vSQA39WIKZTKf0KBdNBAL8v4TlekSS73e954h3al248/RH7R0wOlMUn4VX6d+nBVmMRYVBYua78szIi+J5ffd0xTrrmq1F5LsD58MXM=</div>\n",
              "                    "
            ]
          },
          "metadata": {}
        }
      ],
      "source": [
        "student.submit_task(namespace=globals(), task_id='T2');"
      ]
    },
    {
      "cell_type": "code",
      "execution_count": null,
      "metadata": {
        "id": "gYfMr0dcyBQC"
      },
      "outputs": [],
      "source": []
    }
  ],
  "metadata": {
    "kernelspec": {
      "display_name": "Python 3",
      "language": "python",
      "name": "python3"
    },
    "language_info": {
      "codemirror_mode": {
        "name": "ipython",
        "version": 3
      },
      "file_extension": ".py",
      "mimetype": "text/x-python",
      "name": "python",
      "nbconvert_exporter": "python",
      "pygments_lexer": "ipython3",
      "version": "3.7.6"
    },
    "varInspector": {
      "cols": {
        "lenName": 16,
        "lenType": 16,
        "lenVar": 40
      },
      "kernels_config": {
        "python": {
          "delete_cmd_postfix": "",
          "delete_cmd_prefix": "del ",
          "library": "var_list.py",
          "varRefreshCmd": "print(var_dic_list())"
        },
        "r": {
          "delete_cmd_postfix": ") ",
          "delete_cmd_prefix": "rm(",
          "library": "var_list.r",
          "varRefreshCmd": "cat(var_dic_list()) "
        }
      },
      "types_to_exclude": [
        "module",
        "function",
        "builtin_function_or_method",
        "instance",
        "_Feature"
      ],
      "window_display": false
    },
    "colab": {
      "provenance": []
    },
    "widgets": {
      "application/vnd.jupyter.widget-state+json": {
        "64a8b04f0f8547fa84cff8f60590b82f": {
          "model_module": "@jupyter-widgets/controls",
          "model_name": "HBoxModel",
          "model_module_version": "1.5.0",
          "state": {
            "_dom_classes": [],
            "_model_module": "@jupyter-widgets/controls",
            "_model_module_version": "1.5.0",
            "_model_name": "HBoxModel",
            "_view_count": null,
            "_view_module": "@jupyter-widgets/controls",
            "_view_module_version": "1.5.0",
            "_view_name": "HBoxView",
            "box_style": "",
            "children": [
              "IPY_MODEL_217cdf36b73c496f9c02cf91be639650",
              "IPY_MODEL_86a5ada31a8d46979075d3468b0711b2",
              "IPY_MODEL_d862963386ae4cbcaeb952f53d9ea466",
              "IPY_MODEL_a1c3c9bb3c0f4a088ea1776cdbb25a36"
            ],
            "layout": "IPY_MODEL_1e774c52b0864489a01a8280dad465a3"
          }
        },
        "217cdf36b73c496f9c02cf91be639650": {
          "model_module": "@jupyter-widgets/controls",
          "model_name": "VBoxModel",
          "model_module_version": "1.5.0",
          "state": {
            "_dom_classes": [],
            "_model_module": "@jupyter-widgets/controls",
            "_model_module_version": "1.5.0",
            "_model_name": "VBoxModel",
            "_view_count": null,
            "_view_module": "@jupyter-widgets/controls",
            "_view_module_version": "1.5.0",
            "_view_name": "VBoxView",
            "box_style": "",
            "children": [
              "IPY_MODEL_ffe17f32166a4d2fb4e5a865af28b96a",
              "IPY_MODEL_a032b6462afe45f1a9b408655e8010cc"
            ],
            "layout": "IPY_MODEL_828ae1710f3c475690b1dd62fba9aec3"
          }
        },
        "86a5ada31a8d46979075d3468b0711b2": {
          "model_module": "@jupyter-widgets/controls",
          "model_name": "ButtonModel",
          "model_module_version": "1.5.0",
          "state": {
            "_dom_classes": [
              "login_button"
            ],
            "_model_module": "@jupyter-widgets/controls",
            "_model_module_version": "1.5.0",
            "_model_name": "ButtonModel",
            "_view_count": null,
            "_view_module": "@jupyter-widgets/controls",
            "_view_module_version": "1.5.0",
            "_view_name": "ButtonView",
            "button_style": "",
            "description": "Login with email",
            "disabled": false,
            "icon": "",
            "layout": "IPY_MODEL_92866028f0dd4e87813e88e72ae4cbe6",
            "style": "IPY_MODEL_e0a7a9582afe46e08803882f809c56cc",
            "tooltip": ""
          }
        },
        "d862963386ae4cbcaeb952f53d9ea466": {
          "model_module": "@jupyter-widgets/controls",
          "model_name": "HTMLModel",
          "model_module_version": "1.5.0",
          "state": {
            "_dom_classes": [],
            "_model_module": "@jupyter-widgets/controls",
            "_model_module_version": "1.5.0",
            "_model_name": "HTMLModel",
            "_view_count": null,
            "_view_module": "@jupyter-widgets/controls",
            "_view_module_version": "1.5.0",
            "_view_name": "HTMLView",
            "description": "",
            "description_tooltip": null,
            "layout": "IPY_MODEL_4ffad7d0dbe0499db7998e90e0fd8223",
            "placeholder": "​",
            "style": "IPY_MODEL_8434661180d045b7ba994543326481c7",
            "value": "<center><big>or</big></center>"
          }
        },
        "a1c3c9bb3c0f4a088ea1776cdbb25a36": {
          "model_module": "@jupyter-widgets/controls",
          "model_name": "ButtonModel",
          "model_module_version": "1.5.0",
          "state": {
            "_dom_classes": [
              "google_button"
            ],
            "_model_module": "@jupyter-widgets/controls",
            "_model_module_version": "1.5.0",
            "_model_name": "ButtonModel",
            "_view_count": null,
            "_view_module": "@jupyter-widgets/controls",
            "_view_module_version": "1.5.0",
            "_view_name": "ButtonView",
            "button_style": "",
            "description": "Login with Google",
            "disabled": false,
            "icon": "",
            "layout": "IPY_MODEL_69feaa07707844c1b3022419c361174a",
            "style": "IPY_MODEL_3f5105dc9e6a459695ecccc5b0003d3e",
            "tooltip": ""
          }
        },
        "1e774c52b0864489a01a8280dad465a3": {
          "model_module": "@jupyter-widgets/base",
          "model_name": "LayoutModel",
          "model_module_version": "1.2.0",
          "state": {
            "_model_module": "@jupyter-widgets/base",
            "_model_module_version": "1.2.0",
            "_model_name": "LayoutModel",
            "_view_count": null,
            "_view_module": "@jupyter-widgets/base",
            "_view_module_version": "1.2.0",
            "_view_name": "LayoutView",
            "align_content": null,
            "align_items": null,
            "align_self": null,
            "border": null,
            "bottom": null,
            "display": null,
            "flex": null,
            "flex_flow": null,
            "grid_area": null,
            "grid_auto_columns": null,
            "grid_auto_flow": null,
            "grid_auto_rows": null,
            "grid_column": null,
            "grid_gap": null,
            "grid_row": null,
            "grid_template_areas": null,
            "grid_template_columns": null,
            "grid_template_rows": null,
            "height": null,
            "justify_content": null,
            "justify_items": null,
            "left": null,
            "margin": null,
            "max_height": null,
            "max_width": null,
            "min_height": null,
            "min_width": null,
            "object_fit": null,
            "object_position": null,
            "order": null,
            "overflow": null,
            "overflow_x": null,
            "overflow_y": null,
            "padding": null,
            "right": null,
            "top": null,
            "visibility": null,
            "width": null
          }
        },
        "ffe17f32166a4d2fb4e5a865af28b96a": {
          "model_module": "@jupyter-widgets/controls",
          "model_name": "TextModel",
          "model_module_version": "1.5.0",
          "state": {
            "_dom_classes": [],
            "_model_module": "@jupyter-widgets/controls",
            "_model_module_version": "1.5.0",
            "_model_name": "TextModel",
            "_view_count": null,
            "_view_module": "@jupyter-widgets/controls",
            "_view_module_version": "1.5.0",
            "_view_name": "TextView",
            "continuous_update": true,
            "description": "email",
            "description_tooltip": null,
            "disabled": false,
            "layout": "IPY_MODEL_5e74f5e9d7ab4bf5a3cd6abfeff51d61",
            "placeholder": "​",
            "style": "IPY_MODEL_bf3c67557bc0499c820aa15839f5078b",
            "value": "camilo.avendano1@udea.edu.co"
          }
        },
        "a032b6462afe45f1a9b408655e8010cc": {
          "model_module": "@jupyter-widgets/controls",
          "model_name": "PasswordModel",
          "model_module_version": "1.5.0",
          "state": {
            "_dom_classes": [],
            "_model_module": "@jupyter-widgets/controls",
            "_model_module_version": "1.5.0",
            "_model_name": "PasswordModel",
            "_view_count": null,
            "_view_module": "@jupyter-widgets/controls",
            "_view_module_version": "1.5.0",
            "_view_name": "PasswordView",
            "continuous_update": true,
            "description": "password",
            "description_tooltip": null,
            "disabled": false,
            "layout": "IPY_MODEL_d4cf659ee7414e758f31855da3033de4",
            "placeholder": "​",
            "style": "IPY_MODEL_ea47c5d26a3e40a8a9dc730217734d03",
            "value": "jugodemora7"
          }
        },
        "828ae1710f3c475690b1dd62fba9aec3": {
          "model_module": "@jupyter-widgets/base",
          "model_name": "LayoutModel",
          "model_module_version": "1.2.0",
          "state": {
            "_model_module": "@jupyter-widgets/base",
            "_model_module_version": "1.2.0",
            "_model_name": "LayoutModel",
            "_view_count": null,
            "_view_module": "@jupyter-widgets/base",
            "_view_module_version": "1.2.0",
            "_view_name": "LayoutView",
            "align_content": null,
            "align_items": null,
            "align_self": null,
            "border": null,
            "bottom": null,
            "display": null,
            "flex": null,
            "flex_flow": null,
            "grid_area": null,
            "grid_auto_columns": null,
            "grid_auto_flow": null,
            "grid_auto_rows": null,
            "grid_column": null,
            "grid_gap": null,
            "grid_row": null,
            "grid_template_areas": null,
            "grid_template_columns": null,
            "grid_template_rows": null,
            "height": null,
            "justify_content": null,
            "justify_items": null,
            "left": null,
            "margin": null,
            "max_height": null,
            "max_width": null,
            "min_height": null,
            "min_width": null,
            "object_fit": null,
            "object_position": null,
            "order": null,
            "overflow": null,
            "overflow_x": null,
            "overflow_y": null,
            "padding": null,
            "right": null,
            "top": null,
            "visibility": null,
            "width": null
          }
        },
        "92866028f0dd4e87813e88e72ae4cbe6": {
          "model_module": "@jupyter-widgets/base",
          "model_name": "LayoutModel",
          "model_module_version": "1.2.0",
          "state": {
            "_model_module": "@jupyter-widgets/base",
            "_model_module_version": "1.2.0",
            "_model_name": "LayoutModel",
            "_view_count": null,
            "_view_module": "@jupyter-widgets/base",
            "_view_module_version": "1.2.0",
            "_view_name": "LayoutView",
            "align_content": null,
            "align_items": null,
            "align_self": null,
            "border": null,
            "bottom": null,
            "display": null,
            "flex": null,
            "flex_flow": null,
            "grid_area": null,
            "grid_auto_columns": null,
            "grid_auto_flow": null,
            "grid_auto_rows": null,
            "grid_column": null,
            "grid_gap": null,
            "grid_row": null,
            "grid_template_areas": null,
            "grid_template_columns": null,
            "grid_template_rows": null,
            "height": "53px",
            "justify_content": null,
            "justify_items": null,
            "left": null,
            "margin": null,
            "max_height": null,
            "max_width": null,
            "min_height": null,
            "min_width": null,
            "object_fit": null,
            "object_position": null,
            "order": null,
            "overflow": null,
            "overflow_x": null,
            "overflow_y": null,
            "padding": null,
            "right": null,
            "top": null,
            "visibility": null,
            "width": "150px"
          }
        },
        "e0a7a9582afe46e08803882f809c56cc": {
          "model_module": "@jupyter-widgets/controls",
          "model_name": "ButtonStyleModel",
          "model_module_version": "1.5.0",
          "state": {
            "_model_module": "@jupyter-widgets/controls",
            "_model_module_version": "1.5.0",
            "_model_name": "ButtonStyleModel",
            "_view_count": null,
            "_view_module": "@jupyter-widgets/base",
            "_view_module_version": "1.2.0",
            "_view_name": "StyleView",
            "button_color": null,
            "font_weight": ""
          }
        },
        "4ffad7d0dbe0499db7998e90e0fd8223": {
          "model_module": "@jupyter-widgets/base",
          "model_name": "LayoutModel",
          "model_module_version": "1.2.0",
          "state": {
            "_model_module": "@jupyter-widgets/base",
            "_model_module_version": "1.2.0",
            "_model_name": "LayoutModel",
            "_view_count": null,
            "_view_module": "@jupyter-widgets/base",
            "_view_module_version": "1.2.0",
            "_view_name": "LayoutView",
            "align_content": null,
            "align_items": null,
            "align_self": null,
            "border": null,
            "bottom": null,
            "display": null,
            "flex": null,
            "flex_flow": null,
            "grid_area": null,
            "grid_auto_columns": null,
            "grid_auto_flow": null,
            "grid_auto_rows": null,
            "grid_column": null,
            "grid_gap": null,
            "grid_row": null,
            "grid_template_areas": null,
            "grid_template_columns": null,
            "grid_template_rows": null,
            "height": null,
            "justify_content": null,
            "justify_items": null,
            "left": null,
            "margin": null,
            "max_height": null,
            "max_width": null,
            "min_height": null,
            "min_width": null,
            "object_fit": null,
            "object_position": null,
            "order": null,
            "overflow": null,
            "overflow_x": null,
            "overflow_y": null,
            "padding": null,
            "right": null,
            "top": null,
            "visibility": null,
            "width": "100px"
          }
        },
        "8434661180d045b7ba994543326481c7": {
          "model_module": "@jupyter-widgets/controls",
          "model_name": "DescriptionStyleModel",
          "model_module_version": "1.5.0",
          "state": {
            "_model_module": "@jupyter-widgets/controls",
            "_model_module_version": "1.5.0",
            "_model_name": "DescriptionStyleModel",
            "_view_count": null,
            "_view_module": "@jupyter-widgets/base",
            "_view_module_version": "1.2.0",
            "_view_name": "StyleView",
            "description_width": ""
          }
        },
        "69feaa07707844c1b3022419c361174a": {
          "model_module": "@jupyter-widgets/base",
          "model_name": "LayoutModel",
          "model_module_version": "1.2.0",
          "state": {
            "_model_module": "@jupyter-widgets/base",
            "_model_module_version": "1.2.0",
            "_model_name": "LayoutModel",
            "_view_count": null,
            "_view_module": "@jupyter-widgets/base",
            "_view_module_version": "1.2.0",
            "_view_name": "LayoutView",
            "align_content": null,
            "align_items": null,
            "align_self": null,
            "border": null,
            "bottom": null,
            "display": null,
            "flex": null,
            "flex_flow": null,
            "grid_area": null,
            "grid_auto_columns": null,
            "grid_auto_flow": null,
            "grid_auto_rows": null,
            "grid_column": null,
            "grid_gap": null,
            "grid_row": null,
            "grid_template_areas": null,
            "grid_template_columns": null,
            "grid_template_rows": null,
            "height": "53px",
            "justify_content": null,
            "justify_items": null,
            "left": null,
            "margin": null,
            "max_height": null,
            "max_width": null,
            "min_height": null,
            "min_width": null,
            "object_fit": null,
            "object_position": null,
            "order": null,
            "overflow": null,
            "overflow_x": null,
            "overflow_y": null,
            "padding": null,
            "right": null,
            "top": null,
            "visibility": null,
            "width": "200px"
          }
        },
        "3f5105dc9e6a459695ecccc5b0003d3e": {
          "model_module": "@jupyter-widgets/controls",
          "model_name": "ButtonStyleModel",
          "model_module_version": "1.5.0",
          "state": {
            "_model_module": "@jupyter-widgets/controls",
            "_model_module_version": "1.5.0",
            "_model_name": "ButtonStyleModel",
            "_view_count": null,
            "_view_module": "@jupyter-widgets/base",
            "_view_module_version": "1.2.0",
            "_view_name": "StyleView",
            "button_color": null,
            "font_weight": ""
          }
        },
        "5e74f5e9d7ab4bf5a3cd6abfeff51d61": {
          "model_module": "@jupyter-widgets/base",
          "model_name": "LayoutModel",
          "model_module_version": "1.2.0",
          "state": {
            "_model_module": "@jupyter-widgets/base",
            "_model_module_version": "1.2.0",
            "_model_name": "LayoutModel",
            "_view_count": null,
            "_view_module": "@jupyter-widgets/base",
            "_view_module_version": "1.2.0",
            "_view_name": "LayoutView",
            "align_content": null,
            "align_items": null,
            "align_self": null,
            "border": null,
            "bottom": null,
            "display": null,
            "flex": null,
            "flex_flow": null,
            "grid_area": null,
            "grid_auto_columns": null,
            "grid_auto_flow": null,
            "grid_auto_rows": null,
            "grid_column": null,
            "grid_gap": null,
            "grid_row": null,
            "grid_template_areas": null,
            "grid_template_columns": null,
            "grid_template_rows": null,
            "height": "25px",
            "justify_content": null,
            "justify_items": null,
            "left": null,
            "margin": null,
            "max_height": null,
            "max_width": null,
            "min_height": null,
            "min_width": null,
            "object_fit": null,
            "object_position": null,
            "order": null,
            "overflow": null,
            "overflow_x": null,
            "overflow_y": null,
            "padding": null,
            "right": null,
            "top": null,
            "visibility": null,
            "width": "300px"
          }
        },
        "bf3c67557bc0499c820aa15839f5078b": {
          "model_module": "@jupyter-widgets/controls",
          "model_name": "DescriptionStyleModel",
          "model_module_version": "1.5.0",
          "state": {
            "_model_module": "@jupyter-widgets/controls",
            "_model_module_version": "1.5.0",
            "_model_name": "DescriptionStyleModel",
            "_view_count": null,
            "_view_module": "@jupyter-widgets/base",
            "_view_module_version": "1.2.0",
            "_view_name": "StyleView",
            "description_width": ""
          }
        },
        "d4cf659ee7414e758f31855da3033de4": {
          "model_module": "@jupyter-widgets/base",
          "model_name": "LayoutModel",
          "model_module_version": "1.2.0",
          "state": {
            "_model_module": "@jupyter-widgets/base",
            "_model_module_version": "1.2.0",
            "_model_name": "LayoutModel",
            "_view_count": null,
            "_view_module": "@jupyter-widgets/base",
            "_view_module_version": "1.2.0",
            "_view_name": "LayoutView",
            "align_content": null,
            "align_items": null,
            "align_self": null,
            "border": null,
            "bottom": null,
            "display": null,
            "flex": null,
            "flex_flow": null,
            "grid_area": null,
            "grid_auto_columns": null,
            "grid_auto_flow": null,
            "grid_auto_rows": null,
            "grid_column": null,
            "grid_gap": null,
            "grid_row": null,
            "grid_template_areas": null,
            "grid_template_columns": null,
            "grid_template_rows": null,
            "height": "24px",
            "justify_content": null,
            "justify_items": null,
            "left": null,
            "margin": null,
            "max_height": null,
            "max_width": null,
            "min_height": null,
            "min_width": null,
            "object_fit": null,
            "object_position": null,
            "order": null,
            "overflow": null,
            "overflow_x": null,
            "overflow_y": null,
            "padding": null,
            "right": null,
            "top": null,
            "visibility": null,
            "width": "300px"
          }
        },
        "ea47c5d26a3e40a8a9dc730217734d03": {
          "model_module": "@jupyter-widgets/controls",
          "model_name": "DescriptionStyleModel",
          "model_module_version": "1.5.0",
          "state": {
            "_model_module": "@jupyter-widgets/controls",
            "_model_module_version": "1.5.0",
            "_model_name": "DescriptionStyleModel",
            "_view_count": null,
            "_view_module": "@jupyter-widgets/base",
            "_view_module_version": "1.2.0",
            "_view_name": "StyleView",
            "description_width": ""
          }
        }
      }
    }
  },
  "nbformat": 4,
  "nbformat_minor": 0
}